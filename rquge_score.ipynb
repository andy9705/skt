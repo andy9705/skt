{
 "cells": [
  {
   "cell_type": "code",
   "execution_count": 1,
   "id": "78c89b30",
   "metadata": {},
   "outputs": [],
   "source": [
    "import argparse\n",
    "import glob\n",
    "import logging\n",
    "import json\n",
    "import statistics\n",
    "from rquge_score import RQUGE\n",
    "from tqdm import tqdm\n",
    "from datetime import datetime\n",
    "import numpy as np"
   ]
  },
  {
   "cell_type": "code",
   "execution_count": 2,
   "id": "10a15ab6",
   "metadata": {},
   "outputs": [
    {
     "name": "stderr",
     "output_type": "stream",
     "text": [
      "You are using the default legacy behaviour of the <class 'transformers.models.t5.tokenization_t5.T5Tokenizer'>. This is expected, and simply means that the `legacy` (previous) behavior will be used so nothing changes for you. If you want to use the new behaviour, set `legacy=False`. This should only be set if you understand what it means, and thouroughly read the reason why this was added as explained in https://github.com/huggingface/transformers/pull/24565\n"
     ]
    }
   ],
   "source": [
    "rquge = RQUGE(sp_scorer_path='alirezamsh/quip-512-mocha', qa_model_path='allenai/unifiedqa-v2-t5-large-1363200', device='cuda')"
   ]
  },
  {
   "cell_type": "markdown",
   "id": "0cd7dda9",
   "metadata": {},
   "source": [
    "## base\n"
   ]
  },
  {
   "cell_type": "code",
   "execution_count": 3,
   "id": "065bec2f",
   "metadata": {},
   "outputs": [
    {
     "name": "stdout",
     "output_type": "stream",
     "text": [
      "WikiDialog_LLM_100\n"
     ]
    }
   ],
   "source": [
    "path = \"WikiDialog_LLM_100\"\n",
    "print(path)"
   ]
  },
  {
   "cell_type": "code",
   "execution_count": 4,
   "id": "3e008b7d",
   "metadata": {},
   "outputs": [
    {
     "name": "stderr",
     "output_type": "stream",
     "text": [
      "  0%|          | 0/100 [00:00<?, ?it/s]"
     ]
    },
    {
     "name": "stdout",
     "output_type": "stream",
     "text": [
      "context:\t\tCzechs in Argentina The Czech immigration in Argentina began during the World War 1 and it was split in four periods.It is estimated that around 40,000 Czechs arrived to Argentina until 1970.Argentina has the largest Czech community in Latin America.Czechs settled mainly in Buenos Aires, Gran La Plata, Rosario and Chaco.There are four Czech immigration periods in Argentina.The first one is slightly before to the World War 1, the second one from 1920 to 1930, the third one during the World War 2 and the fourth one, the smallest in migration proportion, during 1990. During the first two periods, the immigration group was mainly integrated by workers and farmers motivated by economic reasons.\n",
      "question:\t\tCan you tell me about the history of Czech immigration in Argentina?\n",
      "answer:\t\tCzechs in Argentina The Czech immigration in Argentina began during the World War 1 and it was split in four periods.\n",
      "rquge:\t\t3.545958995819092\n",
      "\n",
      "\n",
      "context:\t\tCzechs in Argentina The Czech immigration in Argentina began during the World War 1 and it was split in four periods.It is estimated that around 40,000 Czechs arrived to Argentina until 1970.Argentina has the largest Czech community in Latin America.Czechs settled mainly in Buenos Aires, Gran La Plata, Rosario and Chaco.There are four Czech immigration periods in Argentina.The first one is slightly before to the World War 1, the second one from 1920 to 1930, the third one during the World War 2 and the fourth one, the smallest in migration proportion, during 1990. During the first two periods, the immigration group was mainly integrated by workers and farmers motivated by economic reasons.\n",
      "question:\t\tHow many Czechs are estimated to have immigrated to Argentina?\n",
      "answer:\t\tIt is estimated that around 40,000 Czechs arrived to Argentina until 1970.\n",
      "rquge:\t\t4.6628289222717285\n",
      "\n",
      "\n",
      "context:\t\tCzechs in Argentina The Czech immigration in Argentina began during the World War 1 and it was split in four periods.It is estimated that around 40,000 Czechs arrived to Argentina until 1970.Argentina has the largest Czech community in Latin America.Czechs settled mainly in Buenos Aires, Gran La Plata, Rosario and Chaco.There are four Czech immigration periods in Argentina.The first one is slightly before to the World War 1, the second one from 1920 to 1930, the third one during the World War 2 and the fourth one, the smallest in migration proportion, during 1990. During the first two periods, the immigration group was mainly integrated by workers and farmers motivated by economic reasons.\n",
      "question:\t\tWhat is the status of the Czech community in Argentina today?\n",
      "answer:\t\tArgentina has the largest Czech community in Latin America.\n",
      "rquge:\t\t3.7918965816497803\n",
      "\n",
      "\n",
      "context:\t\tCzechs in Argentina The Czech immigration in Argentina began during the World War 1 and it was split in four periods.It is estimated that around 40,000 Czechs arrived to Argentina until 1970.Argentina has the largest Czech community in Latin America.Czechs settled mainly in Buenos Aires, Gran La Plata, Rosario and Chaco.There are four Czech immigration periods in Argentina.The first one is slightly before to the World War 1, the second one from 1920 to 1930, the third one during the World War 2 and the fourth one, the smallest in migration proportion, during 1990. During the first two periods, the immigration group was mainly integrated by workers and farmers motivated by economic reasons.\n",
      "question:\t\tWhat areas did the Czechs primarily settle in?\n",
      "answer:\t\tCzechs settled mainly in Buenos Aires, Gran La Plata, Rosario and Chaco.\n",
      "rquge:\t\t4.074001789093018\n",
      "\n",
      "\n"
     ]
    },
    {
     "name": "stderr",
     "output_type": "stream",
     "text": [
      "  1%|          | 1/100 [00:02<04:11,  2.54s/it]"
     ]
    },
    {
     "name": "stdout",
     "output_type": "stream",
     "text": [
      "context:\t\tCzechs in Argentina The Czech immigration in Argentina began during the World War 1 and it was split in four periods.It is estimated that around 40,000 Czechs arrived to Argentina until 1970.Argentina has the largest Czech community in Latin America.Czechs settled mainly in Buenos Aires, Gran La Plata, Rosario and Chaco.There are four Czech immigration periods in Argentina.The first one is slightly before to the World War 1, the second one from 1920 to 1930, the third one during the World War 2 and the fourth one, the smallest in migration proportion, during 1990. During the first two periods, the immigration group was mainly integrated by workers and farmers motivated by economic reasons.\n",
      "question:\t\tWhat are the four periods of Czech immigration in Argentina?\n",
      "answer:\t\tThere are four Czech immigration periods in Argentina.\n",
      "rquge:\t\t1.781782865524292\n",
      "\n",
      "\n",
      "context:\t\tCzechs in Argentina The Czech immigration in Argentina began during the World War 1 and it was split in four periods.It is estimated that around 40,000 Czechs arrived to Argentina until 1970.Argentina has the largest Czech community in Latin America.Czechs settled mainly in Buenos Aires, Gran La Plata, Rosario and Chaco.There are four Czech immigration periods in Argentina.The first one is slightly before to the World War 1, the second one from 1920 to 1930, the third one during the World War 2 and the fourth one, the smallest in migration proportion, during 1990. During the first two periods, the immigration group was mainly integrated by workers and farmers motivated by economic reasons.\n",
      "question:\t\tCan you tell me more about the reasons for immigration during the third and fourth periods?\n",
      "answer:\t\tThe first one is slightly before to the World War 1, the second one from 1920 to 1930, the third one during the World War 2 and the fourth one, the smallest in migration proportion, during 1990. During the first two periods, the immigration group was mainly integrated by workers and farmers motivated by economic reasons.\n",
      "rquge:\t\t2.2636349201202393\n",
      "\n",
      "\n",
      "context:\t\tCommon ground (communication technique) Common ground is the overlap between the positions of parties that may otherwise disagree.\" Finding common ground\" is a technique people use to facilitate interpersonal relationships.To find common ground between parties, participants must search for signals of recognition, which are often subtle and prone to misunderstanding.Generally, smiles, bland faces, or frowns can be the positive, neutral, or negative signals.When verbal communication is possible, the participants can speak and then listen.Another aspect to establishing common ground is the use of visual cues.\n",
      "question:\t\tCan you explain what is meant by the term common ground in communication?\n",
      "answer:\t\tCommon ground (communication technique) Common ground is the overlap between the positions of parties that may otherwise disagree.\n",
      "rquge:\t\t1.4507365226745605\n",
      "\n",
      "\n",
      "context:\t\tCommon ground (communication technique) Common ground is the overlap between the positions of parties that may otherwise disagree.\" Finding common ground\" is a technique people use to facilitate interpersonal relationships.To find common ground between parties, participants must search for signals of recognition, which are often subtle and prone to misunderstanding.Generally, smiles, bland faces, or frowns can be the positive, neutral, or negative signals.When verbal communication is possible, the participants can speak and then listen.Another aspect to establishing common ground is the use of visual cues.\n",
      "question:\t\tSo, it's a way to find agreement and understanding in a conversation?\n",
      "answer:\t\t\" Finding common ground\" is a technique people use to facilitate interpersonal relationships.\n",
      "rquge:\t\t1.1345689296722412\n",
      "\n",
      "\n",
      "context:\t\tCommon ground (communication technique) Common ground is the overlap between the positions of parties that may otherwise disagree.\" Finding common ground\" is a technique people use to facilitate interpersonal relationships.To find common ground between parties, participants must search for signals of recognition, which are often subtle and prone to misunderstanding.Generally, smiles, bland faces, or frowns can be the positive, neutral, or negative signals.When verbal communication is possible, the participants can speak and then listen.Another aspect to establishing common ground is the use of visual cues.\n",
      "question:\t\tHow do participants find this common ground?\n",
      "answer:\t\tTo find common ground between parties, participants must search for signals of recognition, which are often subtle and prone to misunderstanding.\n",
      "rquge:\t\t4.77078104019165\n",
      "\n",
      "\n",
      "context:\t\tCommon ground (communication technique) Common ground is the overlap between the positions of parties that may otherwise disagree.\" Finding common ground\" is a technique people use to facilitate interpersonal relationships.To find common ground between parties, participants must search for signals of recognition, which are often subtle and prone to misunderstanding.Generally, smiles, bland faces, or frowns can be the positive, neutral, or negative signals.When verbal communication is possible, the participants can speak and then listen.Another aspect to establishing common ground is the use of visual cues.\n",
      "question:\t\tWhat are some examples of these signals?\n",
      "answer:\t\tGenerally, smiles, bland faces, or frowns can be the positive, neutral, or negative signals.\n",
      "rquge:\t\t3.869903326034546\n",
      "\n",
      "\n",
      "context:\t\tCommon ground (communication technique) Common ground is the overlap between the positions of parties that may otherwise disagree.\" Finding common ground\" is a technique people use to facilitate interpersonal relationships.To find common ground between parties, participants must search for signals of recognition, which are often subtle and prone to misunderstanding.Generally, smiles, bland faces, or frowns can be the positive, neutral, or negative signals.When verbal communication is possible, the participants can speak and then listen.Another aspect to establishing common ground is the use of visual cues.\n",
      "question:\t\tSo, body language and verbal communication both play a role in finding common ground?\n",
      "answer:\t\tWhen verbal communication is possible, the participants can speak and then listen.\n",
      "rquge:\t\t1.1017193794250488\n",
      "\n",
      "\n"
     ]
    },
    {
     "name": "stderr",
     "output_type": "stream",
     "text": [
      "  2%|▏         | 2/100 [00:03<02:44,  1.68s/it]"
     ]
    },
    {
     "name": "stdout",
     "output_type": "stream",
     "text": [
      "context:\t\tCommon ground (communication technique) Common ground is the overlap between the positions of parties that may otherwise disagree.\" Finding common ground\" is a technique people use to facilitate interpersonal relationships.To find common ground between parties, participants must search for signals of recognition, which are often subtle and prone to misunderstanding.Generally, smiles, bland faces, or frowns can be the positive, neutral, or negative signals.When verbal communication is possible, the participants can speak and then listen.Another aspect to establishing common ground is the use of visual cues.\n",
      "question:\t\tWhat kind of visual cues are we talking about?\n",
      "answer:\t\tAnother aspect to establishing common ground is the use of visual cues.\n",
      "rquge:\t\t2.7686526775360107\n",
      "\n",
      "\n"
     ]
    },
    {
     "name": "stderr",
     "output_type": "stream",
     "text": [
      "100%|██████████| 100/100 [02:15<00:00,  1.35s/it]\n"
     ]
    }
   ],
   "source": [
    "with open(path+'.json', \"r\") as f:\n",
    "    data = json.load(f)\n",
    "\n",
    "print_count = 2\n",
    "\n",
    "all_scores = []\n",
    "\n",
    "if True: #save all data with Question, Answer, RQUGE Score (json file)\n",
    "    for diag_idx in tqdm(range(len(data))):\n",
    "        \n",
    "        context = ''\n",
    "        for ans_idx in range(len(data[diag_idx])):\n",
    "            context += data[diag_idx][ans_idx]['answer']\n",
    "\n",
    "        for ans_idx in range(len(data[diag_idx])):\n",
    "            score = None\n",
    "            context = context\n",
    "            question = data[diag_idx][ans_idx]['question']\n",
    "            answer = data[diag_idx][ans_idx]['answer']        \n",
    "            \n",
    "            score = (rquge.scorer(context, question, answer))\n",
    "            data[diag_idx][ans_idx]['score'] = score\n",
    "            all_scores.append(score)\n",
    "            \n",
    "            if diag_idx < print_count:\n",
    "                print(\"context:\\t\\t\"  +context)\n",
    "                print(\"question:\\t\\t\" + question)\n",
    "                print(\"answer:\\t\\t\" + answer)\n",
    "                print(\"rquge:\\t\\t\" + str(score))\n",
    "                print(\"\\n\")\n",
    "                \n"
   ]
  },
  {
   "cell_type": "code",
   "execution_count": 5,
   "id": "f6040484",
   "metadata": {},
   "outputs": [
    {
     "name": "stdout",
     "output_type": "stream",
     "text": [
      "3.133685440893667\n"
     ]
    }
   ],
   "source": [
    "average_rquge = sum(all_scores)/len(all_scores)\n",
    "print(average_rquge)"
   ]
  },
  {
   "cell_type": "code",
   "execution_count": 6,
   "id": "a15a2604",
   "metadata": {},
   "outputs": [
    {
     "name": "stdout",
     "output_type": "stream",
     "text": [
      "file saved to WikiDialog_LLM_100_scores.json\n"
     ]
    }
   ],
   "source": [
    "outputpath = path + '_scores.json'\n",
    "with open(outputpath, 'w') as f:\n",
    "    json.dump(data, f,indent=2)\n",
    "print(f\"file saved to {outputpath}\")"
   ]
  },
  {
   "cell_type": "markdown",
   "id": "d0c2bec0",
   "metadata": {},
   "source": [
    "## base + instruction"
   ]
  },
  {
   "cell_type": "code",
   "execution_count": null,
   "id": "414e562e",
   "metadata": {},
   "outputs": [],
   "source": []
  },
  {
   "cell_type": "code",
   "execution_count": 7,
   "id": "dc7d1c15",
   "metadata": {},
   "outputs": [
    {
     "name": "stdout",
     "output_type": "stream",
     "text": [
      "WikiDialog_LLM_instruction_100\n"
     ]
    }
   ],
   "source": [
    "path = \"WikiDialog_LLM_instruction_100\"\n",
    "print(path)"
   ]
  },
  {
   "cell_type": "code",
   "execution_count": 8,
   "id": "83c11464",
   "metadata": {},
   "outputs": [
    {
     "name": "stderr",
     "output_type": "stream",
     "text": [
      "  0%|          | 0/100 [00:00<?, ?it/s]"
     ]
    },
    {
     "name": "stdout",
     "output_type": "stream",
     "text": [
      "context:\t\tCzechs in Argentina The Czech immigration in Argentina began during the World War 1 and it was split in four periods.It is estimated that around 40,000 Czechs arrived to Argentina until 1970.Argentina has the largest Czech community in Latin America.Czechs settled mainly in Buenos Aires, Gran La Plata, Rosario and Chaco.There are four Czech immigration periods in Argentina.The first one is slightly before to the World War 1, the second one from 1920 to 1930, the third one during the World War 2 and the fourth one, the smallest in migration proportion, during 1990. During the first two periods, the immigration group was mainly integrated by workers and farmers motivated by economic reasons.\n",
      "question:\t\tCan you tell me about the history of Czech immigration in Argentina?\n",
      "answer:\t\tCzechs in Argentina The Czech immigration in Argentina began during the World War 1 and it was split in four periods.\n",
      "rquge:\t\t3.545958995819092\n",
      "\n",
      "\n",
      "context:\t\tCzechs in Argentina The Czech immigration in Argentina began during the World War 1 and it was split in four periods.It is estimated that around 40,000 Czechs arrived to Argentina until 1970.Argentina has the largest Czech community in Latin America.Czechs settled mainly in Buenos Aires, Gran La Plata, Rosario and Chaco.There are four Czech immigration periods in Argentina.The first one is slightly before to the World War 1, the second one from 1920 to 1930, the third one during the World War 2 and the fourth one, the smallest in migration proportion, during 1990. During the first two periods, the immigration group was mainly integrated by workers and farmers motivated by economic reasons.\n",
      "question:\t\tHow many Czechs are estimated to have immigrated to Argentina by 1970?\n",
      "answer:\t\tIt is estimated that around 40,000 Czechs arrived to Argentina until 1970.\n",
      "rquge:\t\t4.817248821258545\n",
      "\n",
      "\n",
      "context:\t\tCzechs in Argentina The Czech immigration in Argentina began during the World War 1 and it was split in four periods.It is estimated that around 40,000 Czechs arrived to Argentina until 1970.Argentina has the largest Czech community in Latin America.Czechs settled mainly in Buenos Aires, Gran La Plata, Rosario and Chaco.There are four Czech immigration periods in Argentina.The first one is slightly before to the World War 1, the second one from 1920 to 1930, the third one during the World War 2 and the fourth one, the smallest in migration proportion, during 1990. During the first two periods, the immigration group was mainly integrated by workers and farmers motivated by economic reasons.\n",
      "question:\t\tWhich Latin American country has the largest Czech community?\n",
      "answer:\t\tArgentina has the largest Czech community in Latin America.\n",
      "rquge:\t\t4.734415531158447\n",
      "\n",
      "\n",
      "context:\t\tCzechs in Argentina The Czech immigration in Argentina began during the World War 1 and it was split in four periods.It is estimated that around 40,000 Czechs arrived to Argentina until 1970.Argentina has the largest Czech community in Latin America.Czechs settled mainly in Buenos Aires, Gran La Plata, Rosario and Chaco.There are four Czech immigration periods in Argentina.The first one is slightly before to the World War 1, the second one from 1920 to 1930, the third one during the World War 2 and the fourth one, the smallest in migration proportion, during 1990. During the first two periods, the immigration group was mainly integrated by workers and farmers motivated by economic reasons.\n",
      "question:\t\tWhere did the majority of Czechs settle in Argentina?\n",
      "answer:\t\tCzechs settled mainly in Buenos Aires, Gran La Plata, Rosario and Chaco.\n",
      "rquge:\t\t4.647333145141602\n",
      "\n",
      "\n"
     ]
    },
    {
     "name": "stderr",
     "output_type": "stream",
     "text": [
      "  1%|          | 1/100 [00:01<03:14,  1.97s/it]"
     ]
    },
    {
     "name": "stdout",
     "output_type": "stream",
     "text": [
      "context:\t\tCzechs in Argentina The Czech immigration in Argentina began during the World War 1 and it was split in four periods.It is estimated that around 40,000 Czechs arrived to Argentina until 1970.Argentina has the largest Czech community in Latin America.Czechs settled mainly in Buenos Aires, Gran La Plata, Rosario and Chaco.There are four Czech immigration periods in Argentina.The first one is slightly before to the World War 1, the second one from 1920 to 1930, the third one during the World War 2 and the fourth one, the smallest in migration proportion, during 1990. During the first two periods, the immigration group was mainly integrated by workers and farmers motivated by economic reasons.\n",
      "question:\t\tWhat are the four periods of Czech immigration in Argentina?\n",
      "answer:\t\tThere are four Czech immigration periods in Argentina.\n",
      "rquge:\t\t1.781782865524292\n",
      "\n",
      "\n",
      "context:\t\tCzechs in Argentina The Czech immigration in Argentina began during the World War 1 and it was split in four periods.It is estimated that around 40,000 Czechs arrived to Argentina until 1970.Argentina has the largest Czech community in Latin America.Czechs settled mainly in Buenos Aires, Gran La Plata, Rosario and Chaco.There are four Czech immigration periods in Argentina.The first one is slightly before to the World War 1, the second one from 1920 to 1930, the third one during the World War 2 and the fourth one, the smallest in migration proportion, during 1990. During the first two periods, the immigration group was mainly integrated by workers and farmers motivated by economic reasons.\n",
      "question:\t\tCan you describe the characteristics of the immigrants during the first two periods of Czech immigration in Argentina?\n",
      "answer:\t\tThe first one is slightly before to the World War 1, the second one from 1920 to 1930, the third one during the World War 2 and the fourth one, the smallest in migration proportion, during 1990. During the first two periods, the immigration group was mainly integrated by workers and farmers motivated by economic reasons.\n",
      "rquge:\t\t2.5953142642974854\n",
      "\n",
      "\n",
      "context:\t\tCommon ground (communication technique) Common ground is the overlap between the positions of parties that may otherwise disagree.\" Finding common ground\" is a technique people use to facilitate interpersonal relationships.To find common ground between parties, participants must search for signals of recognition, which are often subtle and prone to misunderstanding.Generally, smiles, bland faces, or frowns can be the positive, neutral, or negative signals.When verbal communication is possible, the participants can speak and then listen.Another aspect to establishing common ground is the use of visual cues.\n",
      "question:\t\tCan you explain what is meant by the term common ground in the context of communication?\n",
      "answer:\t\tCommon ground (communication technique) Common ground is the overlap between the positions of parties that may otherwise disagree.\n",
      "rquge:\t\t1.3896877765655518\n",
      "\n",
      "\n",
      "context:\t\tCommon ground (communication technique) Common ground is the overlap between the positions of parties that may otherwise disagree.\" Finding common ground\" is a technique people use to facilitate interpersonal relationships.To find common ground between parties, participants must search for signals of recognition, which are often subtle and prone to misunderstanding.Generally, smiles, bland faces, or frowns can be the positive, neutral, or negative signals.When verbal communication is possible, the participants can speak and then listen.Another aspect to establishing common ground is the use of visual cues.\n",
      "question:\t\tCan you elaborate on how finding common ground is used in interpersonal relationships?\n",
      "answer:\t\t\" Finding common ground\" is a technique people use to facilitate interpersonal relationships.\n",
      "rquge:\t\t3.539905309677124\n",
      "\n",
      "\n",
      "context:\t\tCommon ground (communication technique) Common ground is the overlap between the positions of parties that may otherwise disagree.\" Finding common ground\" is a technique people use to facilitate interpersonal relationships.To find common ground between parties, participants must search for signals of recognition, which are often subtle and prone to misunderstanding.Generally, smiles, bland faces, or frowns can be the positive, neutral, or negative signals.When verbal communication is possible, the participants can speak and then listen.Another aspect to establishing common ground is the use of visual cues.\n",
      "question:\t\tWhat is the process of finding common ground between parties in a conversation?\n",
      "answer:\t\tTo find common ground between parties, participants must search for signals of recognition, which are often subtle and prone to misunderstanding.\n",
      "rquge:\t\t3.600046157836914\n",
      "\n",
      "\n",
      "context:\t\tCommon ground (communication technique) Common ground is the overlap between the positions of parties that may otherwise disagree.\" Finding common ground\" is a technique people use to facilitate interpersonal relationships.To find common ground between parties, participants must search for signals of recognition, which are often subtle and prone to misunderstanding.Generally, smiles, bland faces, or frowns can be the positive, neutral, or negative signals.When verbal communication is possible, the participants can speak and then listen.Another aspect to establishing common ground is the use of visual cues.\n",
      "question:\t\tWhat are some examples of signals of recognition in a conversation?\n",
      "answer:\t\tGenerally, smiles, bland faces, or frowns can be the positive, neutral, or negative signals.\n",
      "rquge:\t\t3.8890511989593506\n",
      "\n",
      "\n"
     ]
    },
    {
     "name": "stderr",
     "output_type": "stream",
     "text": [
      "  2%|▏         | 2/100 [00:03<02:29,  1.52s/it]"
     ]
    },
    {
     "name": "stdout",
     "output_type": "stream",
     "text": [
      "context:\t\tCommon ground (communication technique) Common ground is the overlap between the positions of parties that may otherwise disagree.\" Finding common ground\" is a technique people use to facilitate interpersonal relationships.To find common ground between parties, participants must search for signals of recognition, which are often subtle and prone to misunderstanding.Generally, smiles, bland faces, or frowns can be the positive, neutral, or negative signals.When verbal communication is possible, the participants can speak and then listen.Another aspect to establishing common ground is the use of visual cues.\n",
      "question:\t\tHow does verbal communication contribute to finding common ground in a conversation?\n",
      "answer:\t\tWhen verbal communication is possible, the participants can speak and then listen.\n",
      "rquge:\t\t4.988394737243652\n",
      "\n",
      "\n",
      "context:\t\tCommon ground (communication technique) Common ground is the overlap between the positions of parties that may otherwise disagree.\" Finding common ground\" is a technique people use to facilitate interpersonal relationships.To find common ground between parties, participants must search for signals of recognition, which are often subtle and prone to misunderstanding.Generally, smiles, bland faces, or frowns can be the positive, neutral, or negative signals.When verbal communication is possible, the participants can speak and then listen.Another aspect to establishing common ground is the use of visual cues.\n",
      "question:\t\tWhat role do visual cues play in establishing common ground?\n",
      "answer:\t\tAnother aspect to establishing common ground is the use of visual cues.\n",
      "rquge:\t\t4.180639743804932\n",
      "\n",
      "\n"
     ]
    },
    {
     "name": "stderr",
     "output_type": "stream",
     "text": [
      "100%|██████████| 100/100 [02:33<00:00,  1.53s/it]\n"
     ]
    }
   ],
   "source": [
    "with open(path+'.json', \"r\") as f:\n",
    "    data = json.load(f)\n",
    "\n",
    "print_count = 2\n",
    "\n",
    "all_scores = []\n",
    "\n",
    "if True: #save all data with Question, Answer, RQUGE Score (json file)\n",
    "    for diag_idx in tqdm(range(len(data))):\n",
    "        \n",
    "        context = ''\n",
    "        for ans_idx in range(len(data[diag_idx])):\n",
    "            context += data[diag_idx][ans_idx]['answer']\n",
    "\n",
    "        for ans_idx in range(len(data[diag_idx])):\n",
    "            score = None\n",
    "            context = context\n",
    "            question = data[diag_idx][ans_idx]['question']\n",
    "            answer = data[diag_idx][ans_idx]['answer']        \n",
    "            \n",
    "            score = (rquge.scorer(context, question, answer))\n",
    "            data[diag_idx][ans_idx]['score'] = score\n",
    "            all_scores.append(score)\n",
    "            \n",
    "            if diag_idx < print_count:\n",
    "                print(\"context:\\t\\t\"  +context)\n",
    "                print(\"question:\\t\\t\" + question)\n",
    "                print(\"answer:\\t\\t\" + answer)\n",
    "                print(\"rquge:\\t\\t\" + str(score))\n",
    "                print(\"\\n\")\n",
    "                \n"
   ]
  },
  {
   "cell_type": "code",
   "execution_count": 9,
   "id": "3a8f9df3",
   "metadata": {},
   "outputs": [
    {
     "name": "stdout",
     "output_type": "stream",
     "text": [
      "3.6212013076501064\n"
     ]
    }
   ],
   "source": [
    "average_rquge = sum(all_scores)/len(all_scores)\n",
    "print(average_rquge)"
   ]
  },
  {
   "cell_type": "code",
   "execution_count": 10,
   "id": "ebaa340f",
   "metadata": {},
   "outputs": [
    {
     "name": "stdout",
     "output_type": "stream",
     "text": [
      "file saved to WikiDialog_LLM_instruction_100_scores.json\n"
     ]
    }
   ],
   "source": [
    "outputpath = path + '_scores.json'\n",
    "with open(outputpath, 'w') as f:\n",
    "    json.dump(data, f,indent=2)\n",
    "print(f\"file saved to {outputpath}\")"
   ]
  },
  {
   "cell_type": "markdown",
   "id": "0fb3d28b",
   "metadata": {},
   "source": [
    "## base + instruction + title"
   ]
  },
  {
   "cell_type": "code",
   "execution_count": null,
   "id": "6535ac8a",
   "metadata": {},
   "outputs": [],
   "source": []
  },
  {
   "cell_type": "code",
   "execution_count": 11,
   "id": "5bbd8569",
   "metadata": {},
   "outputs": [
    {
     "name": "stdout",
     "output_type": "stream",
     "text": [
      "WikiDialog_LLM_instruction_passage_title_100\n"
     ]
    }
   ],
   "source": [
    "path = \"WikiDialog_LLM_instruction_passage_title_100\"\n",
    "print(path)"
   ]
  },
  {
   "cell_type": "code",
   "execution_count": 12,
   "id": "fdc5cfd1",
   "metadata": {},
   "outputs": [
    {
     "name": "stderr",
     "output_type": "stream",
     "text": [
      "  0%|          | 0/100 [00:00<?, ?it/s]"
     ]
    },
    {
     "name": "stdout",
     "output_type": "stream",
     "text": [
      "context:\t\tCzechs in Argentina The Czech immigration in Argentina began during the World War 1 and it was split in four periods.It is estimated that around 40,000 Czechs arrived to Argentina until 1970.Argentina has the largest Czech community in Latin America.Czechs settled mainly in Buenos Aires, Gran La Plata, Rosario and Chaco.There are four Czech immigration periods in Argentina.The first one is slightly before to the World War 1, the second one from 1920 to 1930, the third one during the World War 2 and the fourth one, the smallest in migration proportion, during 1990. During the first two periods, the immigration group was mainly integrated by workers and farmers motivated by economic reasons.\n",
      "question:\t\tCan you tell me about the history of Czech immigration in Argentina?\n",
      "answer:\t\tCzechs in Argentina The Czech immigration in Argentina began during the World War 1 and it was split in four periods.\n",
      "rquge:\t\t3.545958995819092\n",
      "\n",
      "\n",
      "context:\t\tCzechs in Argentina The Czech immigration in Argentina began during the World War 1 and it was split in four periods.It is estimated that around 40,000 Czechs arrived to Argentina until 1970.Argentina has the largest Czech community in Latin America.Czechs settled mainly in Buenos Aires, Gran La Plata, Rosario and Chaco.There are four Czech immigration periods in Argentina.The first one is slightly before to the World War 1, the second one from 1920 to 1930, the third one during the World War 2 and the fourth one, the smallest in migration proportion, during 1990. During the first two periods, the immigration group was mainly integrated by workers and farmers motivated by economic reasons.\n",
      "question:\t\tHow many Czechs are estimated to have immigrated to Argentina by 1970?\n",
      "answer:\t\tIt is estimated that around 40,000 Czechs arrived to Argentina until 1970.\n",
      "rquge:\t\t4.817248821258545\n",
      "\n",
      "\n",
      "context:\t\tCzechs in Argentina The Czech immigration in Argentina began during the World War 1 and it was split in four periods.It is estimated that around 40,000 Czechs arrived to Argentina until 1970.Argentina has the largest Czech community in Latin America.Czechs settled mainly in Buenos Aires, Gran La Plata, Rosario and Chaco.There are four Czech immigration periods in Argentina.The first one is slightly before to the World War 1, the second one from 1920 to 1930, the third one during the World War 2 and the fourth one, the smallest in migration proportion, during 1990. During the first two periods, the immigration group was mainly integrated by workers and farmers motivated by economic reasons.\n",
      "question:\t\tWhich Latin American country has the largest Czech community?\n",
      "answer:\t\tArgentina has the largest Czech community in Latin America.\n",
      "rquge:\t\t4.734415531158447\n",
      "\n",
      "\n",
      "context:\t\tCzechs in Argentina The Czech immigration in Argentina began during the World War 1 and it was split in four periods.It is estimated that around 40,000 Czechs arrived to Argentina until 1970.Argentina has the largest Czech community in Latin America.Czechs settled mainly in Buenos Aires, Gran La Plata, Rosario and Chaco.There are four Czech immigration periods in Argentina.The first one is slightly before to the World War 1, the second one from 1920 to 1930, the third one during the World War 2 and the fourth one, the smallest in migration proportion, during 1990. During the first two periods, the immigration group was mainly integrated by workers and farmers motivated by economic reasons.\n",
      "question:\t\tWhere did the Czechs mainly settle in Argentina?\n",
      "answer:\t\tCzechs settled mainly in Buenos Aires, Gran La Plata, Rosario and Chaco.\n",
      "rquge:\t\t4.665287017822266\n",
      "\n",
      "\n",
      "context:\t\tCzechs in Argentina The Czech immigration in Argentina began during the World War 1 and it was split in four periods.It is estimated that around 40,000 Czechs arrived to Argentina until 1970.Argentina has the largest Czech community in Latin America.Czechs settled mainly in Buenos Aires, Gran La Plata, Rosario and Chaco.There are four Czech immigration periods in Argentina.The first one is slightly before to the World War 1, the second one from 1920 to 1930, the third one during the World War 2 and the fourth one, the smallest in migration proportion, during 1990. During the first two periods, the immigration group was mainly integrated by workers and farmers motivated by economic reasons.\n",
      "question:\t\tCan you elaborate on the four periods of Czech immigration in Argentina?\n",
      "answer:\t\tThere are four Czech immigration periods in Argentina.\n",
      "rquge:\t\t3.5356013774871826\n",
      "\n",
      "\n"
     ]
    },
    {
     "name": "stderr",
     "output_type": "stream",
     "text": [
      "  1%|          | 1/100 [00:01<02:30,  1.52s/it]"
     ]
    },
    {
     "name": "stdout",
     "output_type": "stream",
     "text": [
      "context:\t\tCzechs in Argentina The Czech immigration in Argentina began during the World War 1 and it was split in four periods.It is estimated that around 40,000 Czechs arrived to Argentina until 1970.Argentina has the largest Czech community in Latin America.Czechs settled mainly in Buenos Aires, Gran La Plata, Rosario and Chaco.There are four Czech immigration periods in Argentina.The first one is slightly before to the World War 1, the second one from 1920 to 1930, the third one during the World War 2 and the fourth one, the smallest in migration proportion, during 1990. During the first two periods, the immigration group was mainly integrated by workers and farmers motivated by economic reasons.\n",
      "question:\t\tWhat were the characteristics of each of these immigration periods?\n",
      "answer:\t\tThe first one is slightly before to the World War 1, the second one from 1920 to 1930, the third one during the World War 2 and the fourth one, the smallest in migration proportion, during 1990. During the first two periods, the immigration group was mainly integrated by workers and farmers motivated by economic reasons.\n",
      "rquge:\t\t4.149013519287109\n",
      "\n",
      "\n",
      "context:\t\tCommon ground (communication technique) Common ground is the overlap between the positions of parties that may otherwise disagree.\" Finding common ground\" is a technique people use to facilitate interpersonal relationships.To find common ground between parties, participants must search for signals of recognition, which are often subtle and prone to misunderstanding.Generally, smiles, bland faces, or frowns can be the positive, neutral, or negative signals.When verbal communication is possible, the participants can speak and then listen.Another aspect to establishing common ground is the use of visual cues.\n",
      "question:\t\tCan you explain what is meant by the term 'Common ground' in the context of communication techniques?\n",
      "answer:\t\tCommon ground (communication technique) Common ground is the overlap between the positions of parties that may otherwise disagree.\n",
      "rquge:\t\t1.3385719060897827\n",
      "\n",
      "\n",
      "context:\t\tCommon ground (communication technique) Common ground is the overlap between the positions of parties that may otherwise disagree.\" Finding common ground\" is a technique people use to facilitate interpersonal relationships.To find common ground between parties, participants must search for signals of recognition, which are often subtle and prone to misunderstanding.Generally, smiles, bland faces, or frowns can be the positive, neutral, or negative signals.When verbal communication is possible, the participants can speak and then listen.Another aspect to establishing common ground is the use of visual cues.\n",
      "question:\t\tCan you elaborate on how finding common ground is used to facilitate interpersonal relationships?\n",
      "answer:\t\t\" Finding common ground\" is a technique people use to facilitate interpersonal relationships.\n",
      "rquge:\t\t3.595947027206421\n",
      "\n",
      "\n",
      "context:\t\tCommon ground (communication technique) Common ground is the overlap between the positions of parties that may otherwise disagree.\" Finding common ground\" is a technique people use to facilitate interpersonal relationships.To find common ground between parties, participants must search for signals of recognition, which are often subtle and prone to misunderstanding.Generally, smiles, bland faces, or frowns can be the positive, neutral, or negative signals.When verbal communication is possible, the participants can speak and then listen.Another aspect to establishing common ground is the use of visual cues.\n",
      "question:\t\tCan you explain how these signals of recognition are identified and how they can lead to misunderstandings?\n",
      "answer:\t\tTo find common ground between parties, participants must search for signals of recognition, which are often subtle and prone to misunderstanding.\n",
      "rquge:\t\t1.8990496397018433\n",
      "\n",
      "\n",
      "context:\t\tCommon ground (communication technique) Common ground is the overlap between the positions of parties that may otherwise disagree.\" Finding common ground\" is a technique people use to facilitate interpersonal relationships.To find common ground between parties, participants must search for signals of recognition, which are often subtle and prone to misunderstanding.Generally, smiles, bland faces, or frowns can be the positive, neutral, or negative signals.When verbal communication is possible, the participants can speak and then listen.Another aspect to establishing common ground is the use of visual cues.\n",
      "question:\t\tCan you provide examples of how these signals, such as smiles, bland faces, or frowns, can be interpreted differently in different contexts?\n",
      "answer:\t\tGenerally, smiles, bland faces, or frowns can be the positive, neutral, or negative signals.\n",
      "rquge:\t\t1.3154767751693726\n",
      "\n",
      "\n",
      "context:\t\tCommon ground (communication technique) Common ground is the overlap between the positions of parties that may otherwise disagree.\" Finding common ground\" is a technique people use to facilitate interpersonal relationships.To find common ground between parties, participants must search for signals of recognition, which are often subtle and prone to misunderstanding.Generally, smiles, bland faces, or frowns can be the positive, neutral, or negative signals.When verbal communication is possible, the participants can speak and then listen.Another aspect to establishing common ground is the use of visual cues.\n",
      "question:\t\tCan you explain how verbal communication can help in identifying these signals and avoiding misunderstandings?\n",
      "answer:\t\tWhen verbal communication is possible, the participants can speak and then listen.\n",
      "rquge:\t\t1.2697083950042725\n",
      "\n",
      "\n"
     ]
    },
    {
     "name": "stderr",
     "output_type": "stream",
     "text": [
      "  2%|▏         | 2/100 [00:02<01:40,  1.03s/it]"
     ]
    },
    {
     "name": "stdout",
     "output_type": "stream",
     "text": [
      "context:\t\tCommon ground (communication technique) Common ground is the overlap between the positions of parties that may otherwise disagree.\" Finding common ground\" is a technique people use to facilitate interpersonal relationships.To find common ground between parties, participants must search for signals of recognition, which are often subtle and prone to misunderstanding.Generally, smiles, bland faces, or frowns can be the positive, neutral, or negative signals.When verbal communication is possible, the participants can speak and then listen.Another aspect to establishing common ground is the use of visual cues.\n",
      "question:\t\tCan you elaborate on how visual cues can be used to establish common ground?\n",
      "answer:\t\tAnother aspect to establishing common ground is the use of visual cues.\n",
      "rquge:\t\t1.6946313381195068\n",
      "\n",
      "\n"
     ]
    },
    {
     "name": "stderr",
     "output_type": "stream",
     "text": [
      "100%|██████████| 100/100 [02:25<00:00,  1.45s/it]\n"
     ]
    }
   ],
   "source": [
    "with open(path+'.json', \"r\") as f:\n",
    "    data = json.load(f)\n",
    "\n",
    "print_count = 2\n",
    "\n",
    "all_scores = []\n",
    "\n",
    "if True: #save all data with Question, Answer, RQUGE Score (json file)\n",
    "    for diag_idx in tqdm(range(len(data))):\n",
    "        \n",
    "        context = ''\n",
    "        for ans_idx in range(len(data[diag_idx])):\n",
    "            context += data[diag_idx][ans_idx]['answer']\n",
    "\n",
    "        for ans_idx in range(len(data[diag_idx])):\n",
    "            score = None\n",
    "            context = context\n",
    "            question = data[diag_idx][ans_idx]['question']\n",
    "            answer = data[diag_idx][ans_idx]['answer']        \n",
    "            \n",
    "            score = (rquge.scorer(context, question, answer))\n",
    "            data[diag_idx][ans_idx]['score'] = score\n",
    "            all_scores.append(score)\n",
    "            \n",
    "            if diag_idx < print_count:\n",
    "                print(\"context:\\t\\t\"  +context)\n",
    "                print(\"question:\\t\\t\" + question)\n",
    "                print(\"answer:\\t\\t\" + answer)\n",
    "                print(\"rquge:\\t\\t\" + str(score))\n",
    "                print(\"\\n\")\n",
    "                \n"
   ]
  },
  {
   "cell_type": "code",
   "execution_count": 13,
   "id": "87d9d3b9",
   "metadata": {},
   "outputs": [
    {
     "name": "stdout",
     "output_type": "stream",
     "text": [
      "3.533342780701193\n"
     ]
    }
   ],
   "source": [
    "average_rquge = sum(all_scores)/len(all_scores)\n",
    "print(average_rquge)"
   ]
  },
  {
   "cell_type": "code",
   "execution_count": 14,
   "id": "bfbdef3d",
   "metadata": {},
   "outputs": [
    {
     "name": "stdout",
     "output_type": "stream",
     "text": [
      "file saved to WikiDialog_LLM_instruction_passage_title_100_scores.json\n"
     ]
    }
   ],
   "source": [
    "outputpath = path + '_scores.json'\n",
    "with open(outputpath, 'w') as f:\n",
    "    json.dump(data, f,indent=2)\n",
    "print(f\"file saved to {outputpath}\")"
   ]
  },
  {
   "cell_type": "code",
   "execution_count": 15,
   "id": "1d8d41e3",
   "metadata": {},
   "outputs": [
    {
     "ename": "RuntimeError",
     "evalue": "No active exception to reraise",
     "output_type": "error",
     "traceback": [
      "\u001b[0;31m---------------------------------------------------------------------------\u001b[0m",
      "\u001b[0;31mRuntimeError\u001b[0m                              Traceback (most recent call last)",
      "Cell \u001b[0;32mIn[15], line 1\u001b[0m\n\u001b[0;32m----> 1\u001b[0m \u001b[38;5;28;01mraise\u001b[39;00m\n",
      "\u001b[0;31mRuntimeError\u001b[0m: No active exception to reraise"
     ]
    }
   ],
   "source": [
    "raise"
   ]
  },
  {
   "cell_type": "markdown",
   "id": "37662c4c",
   "metadata": {},
   "source": [
    "## base + 1shot example"
   ]
  },
  {
   "cell_type": "code",
   "execution_count": null,
   "id": "c401c15a",
   "metadata": {},
   "outputs": [],
   "source": []
  },
  {
   "cell_type": "code",
   "execution_count": 16,
   "id": "2caefa10",
   "metadata": {},
   "outputs": [
    {
     "name": "stdout",
     "output_type": "stream",
     "text": [
      "WikiDialog_LLM_shot_100\n"
     ]
    }
   ],
   "source": [
    "path = \"WikiDialog_LLM_shot_100\"\n",
    "print(path)"
   ]
  },
  {
   "cell_type": "code",
   "execution_count": null,
   "id": "5cc1c01c",
   "metadata": {},
   "outputs": [],
   "source": []
  },
  {
   "cell_type": "code",
   "execution_count": 17,
   "id": "a618b5b3",
   "metadata": {},
   "outputs": [
    {
     "name": "stderr",
     "output_type": "stream",
     "text": [
      "  0%|          | 0/100 [00:00<?, ?it/s]"
     ]
    },
    {
     "name": "stdout",
     "output_type": "stream",
     "text": [
      "context:\t\tCzechs in Argentina The Czech immigration in Argentina began during the World War 1 and it was split in four periods.It is estimated that around 40,000 Czechs arrived to Argentina until 1970.Argentina has the largest Czech community in Latin America.Czechs settled mainly in Buenos Aires, Gran La Plata, Rosario and Chaco.There are four Czech immigration periods in Argentina.The first one is slightly before to the World War 1, the second one from 1920 to 1930, the third one during the World War 2 and the fourth one, the smallest in migration proportion, during 1990. During the first two periods, the immigration group was mainly integrated by workers and farmers motivated by economic reasons.\n",
      "question:\t\tWhat can you tell me about Czech immigration in Argentina?\n",
      "answer:\t\tCzechs in Argentina The Czech immigration in Argentina began during the World War 1 and it was split in four periods.\n",
      "rquge:\t\t4.371062755584717\n",
      "\n",
      "\n",
      "context:\t\tCzechs in Argentina The Czech immigration in Argentina began during the World War 1 and it was split in four periods.It is estimated that around 40,000 Czechs arrived to Argentina until 1970.Argentina has the largest Czech community in Latin America.Czechs settled mainly in Buenos Aires, Gran La Plata, Rosario and Chaco.There are four Czech immigration periods in Argentina.The first one is slightly before to the World War 1, the second one from 1920 to 1930, the third one during the World War 2 and the fourth one, the smallest in migration proportion, during 1990. During the first two periods, the immigration group was mainly integrated by workers and farmers motivated by economic reasons.\n",
      "question:\t\tHow many Czechs immigrated to Argentina?\n",
      "answer:\t\tIt is estimated that around 40,000 Czechs arrived to Argentina until 1970.\n",
      "rquge:\t\t4.709941387176514\n",
      "\n",
      "\n",
      "context:\t\tCzechs in Argentina The Czech immigration in Argentina began during the World War 1 and it was split in four periods.It is estimated that around 40,000 Czechs arrived to Argentina until 1970.Argentina has the largest Czech community in Latin America.Czechs settled mainly in Buenos Aires, Gran La Plata, Rosario and Chaco.There are four Czech immigration periods in Argentina.The first one is slightly before to the World War 1, the second one from 1920 to 1930, the third one during the World War 2 and the fourth one, the smallest in migration proportion, during 1990. During the first two periods, the immigration group was mainly integrated by workers and farmers motivated by economic reasons.\n",
      "question:\t\tWhat is the significance of the Czech community in Argentina?\n",
      "answer:\t\tArgentina has the largest Czech community in Latin America.\n",
      "rquge:\t\t5.103157043457031\n",
      "\n",
      "\n",
      "context:\t\tCzechs in Argentina The Czech immigration in Argentina began during the World War 1 and it was split in four periods.It is estimated that around 40,000 Czechs arrived to Argentina until 1970.Argentina has the largest Czech community in Latin America.Czechs settled mainly in Buenos Aires, Gran La Plata, Rosario and Chaco.There are four Czech immigration periods in Argentina.The first one is slightly before to the World War 1, the second one from 1920 to 1930, the third one during the World War 2 and the fourth one, the smallest in migration proportion, during 1990. During the first two periods, the immigration group was mainly integrated by workers and farmers motivated by economic reasons.\n",
      "question:\t\tWhere did the Czechs mainly settle in Argentina?\n",
      "answer:\t\tCzechs settled mainly in Buenos Aires, Gran La Plata, Rosario and Chaco.\n",
      "rquge:\t\t4.665287017822266\n",
      "\n",
      "\n"
     ]
    },
    {
     "name": "stderr",
     "output_type": "stream",
     "text": [
      "  1%|          | 1/100 [00:02<03:56,  2.39s/it]"
     ]
    },
    {
     "name": "stdout",
     "output_type": "stream",
     "text": [
      "context:\t\tCzechs in Argentina The Czech immigration in Argentina began during the World War 1 and it was split in four periods.It is estimated that around 40,000 Czechs arrived to Argentina until 1970.Argentina has the largest Czech community in Latin America.Czechs settled mainly in Buenos Aires, Gran La Plata, Rosario and Chaco.There are four Czech immigration periods in Argentina.The first one is slightly before to the World War 1, the second one from 1920 to 1930, the third one during the World War 2 and the fourth one, the smallest in migration proportion, during 1990. During the first two periods, the immigration group was mainly integrated by workers and farmers motivated by economic reasons.\n",
      "question:\t\tWhat are the four periods of Czech immigration in Argentina?\n",
      "answer:\t\tThere are four Czech immigration periods in Argentina.\n",
      "rquge:\t\t1.781782865524292\n",
      "\n",
      "\n",
      "context:\t\tCzechs in Argentina The Czech immigration in Argentina began during the World War 1 and it was split in four periods.It is estimated that around 40,000 Czechs arrived to Argentina until 1970.Argentina has the largest Czech community in Latin America.Czechs settled mainly in Buenos Aires, Gran La Plata, Rosario and Chaco.There are four Czech immigration periods in Argentina.The first one is slightly before to the World War 1, the second one from 1920 to 1930, the third one during the World War 2 and the fourth one, the smallest in migration proportion, during 1990. During the first two periods, the immigration group was mainly integrated by workers and farmers motivated by economic reasons.\n",
      "question:\t\tCan you tell me more about each period of Czech immigration?\n",
      "answer:\t\tThe first one is slightly before to the World War 1, the second one from 1920 to 1930, the third one during the World War 2 and the fourth one, the smallest in migration proportion, during 1990. During the first two periods, the immigration group was mainly integrated by workers and farmers motivated by economic reasons.\n",
      "rquge:\t\t2.6520655155181885\n",
      "\n",
      "\n",
      "context:\t\tCommon ground (communication technique) Common ground is the overlap between the positions of parties that may otherwise disagree.\" Finding common ground\" is a technique people use to facilitate interpersonal relationships.To find common ground between parties, participants must search for signals of recognition, which are often subtle and prone to misunderstanding.Generally, smiles, bland faces, or frowns can be the positive, neutral, or negative signals.When verbal communication is possible, the participants can speak and then listen.Another aspect to establishing common ground is the use of visual cues.\n",
      "question:\t\tWhat is common ground in communication?\n",
      "answer:\t\tCommon ground (communication technique) Common ground is the overlap between the positions of parties that may otherwise disagree.\n",
      "rquge:\t\t4.955116271972656\n",
      "\n",
      "\n",
      "context:\t\tCommon ground (communication technique) Common ground is the overlap between the positions of parties that may otherwise disagree.\" Finding common ground\" is a technique people use to facilitate interpersonal relationships.To find common ground between parties, participants must search for signals of recognition, which are often subtle and prone to misunderstanding.Generally, smiles, bland faces, or frowns can be the positive, neutral, or negative signals.When verbal communication is possible, the participants can speak and then listen.Another aspect to establishing common ground is the use of visual cues.\n",
      "question:\t\tWhat does finding common ground mean?\n",
      "answer:\t\t\" Finding common ground\" is a technique people use to facilitate interpersonal relationships.\n",
      "rquge:\t\t2.1304571628570557\n",
      "\n",
      "\n",
      "context:\t\tCommon ground (communication technique) Common ground is the overlap between the positions of parties that may otherwise disagree.\" Finding common ground\" is a technique people use to facilitate interpersonal relationships.To find common ground between parties, participants must search for signals of recognition, which are often subtle and prone to misunderstanding.Generally, smiles, bland faces, or frowns can be the positive, neutral, or negative signals.When verbal communication is possible, the participants can speak and then listen.Another aspect to establishing common ground is the use of visual cues.\n",
      "question:\t\tHow do you find common ground between parties?\n",
      "answer:\t\tTo find common ground between parties, participants must search for signals of recognition, which are often subtle and prone to misunderstanding.\n",
      "rquge:\t\t4.7845072746276855\n",
      "\n",
      "\n",
      "context:\t\tCommon ground (communication technique) Common ground is the overlap between the positions of parties that may otherwise disagree.\" Finding common ground\" is a technique people use to facilitate interpersonal relationships.To find common ground between parties, participants must search for signals of recognition, which are often subtle and prone to misunderstanding.Generally, smiles, bland faces, or frowns can be the positive, neutral, or negative signals.When verbal communication is possible, the participants can speak and then listen.Another aspect to establishing common ground is the use of visual cues.\n",
      "question:\t\tWhat are some examples of these signals?\n",
      "answer:\t\tGenerally, smiles, bland faces, or frowns can be the positive, neutral, or negative signals.\n",
      "rquge:\t\t3.869903326034546\n",
      "\n",
      "\n"
     ]
    },
    {
     "name": "stderr",
     "output_type": "stream",
     "text": [
      "  2%|▏         | 2/100 [00:04<03:20,  2.05s/it]"
     ]
    },
    {
     "name": "stdout",
     "output_type": "stream",
     "text": [
      "context:\t\tCommon ground (communication technique) Common ground is the overlap between the positions of parties that may otherwise disagree.\" Finding common ground\" is a technique people use to facilitate interpersonal relationships.To find common ground between parties, participants must search for signals of recognition, which are often subtle and prone to misunderstanding.Generally, smiles, bland faces, or frowns can be the positive, neutral, or negative signals.When verbal communication is possible, the participants can speak and then listen.Another aspect to establishing common ground is the use of visual cues.\n",
      "question:\t\tWhat happens when verbal communication is possible?\n",
      "answer:\t\tWhen verbal communication is possible, the participants can speak and then listen.\n",
      "rquge:\t\t5.049715042114258\n",
      "\n",
      "\n",
      "context:\t\tCommon ground (communication technique) Common ground is the overlap between the positions of parties that may otherwise disagree.\" Finding common ground\" is a technique people use to facilitate interpersonal relationships.To find common ground between parties, participants must search for signals of recognition, which are often subtle and prone to misunderstanding.Generally, smiles, bland faces, or frowns can be the positive, neutral, or negative signals.When verbal communication is possible, the participants can speak and then listen.Another aspect to establishing common ground is the use of visual cues.\n",
      "question:\t\tWhat role do visual cues play in establishing common ground?\n",
      "answer:\t\tAnother aspect to establishing common ground is the use of visual cues.\n",
      "rquge:\t\t4.180639743804932\n",
      "\n",
      "\n"
     ]
    },
    {
     "name": "stderr",
     "output_type": "stream",
     "text": [
      "100%|██████████| 100/100 [02:42<00:00,  1.63s/it]\n"
     ]
    }
   ],
   "source": [
    "with open(path+'.json', \"r\") as f:\n",
    "    data = json.load(f)\n",
    "\n",
    "print_count = 2\n",
    "\n",
    "all_scores = []\n",
    "\n",
    "if True: #save all data with Question, Answer, RQUGE Score (json file)\n",
    "    for diag_idx in tqdm(range(len(data))):\n",
    "        \n",
    "        context = ''\n",
    "        for ans_idx in range(len(data[diag_idx])):\n",
    "            context += data[diag_idx][ans_idx]['answer']\n",
    "\n",
    "        for ans_idx in range(len(data[diag_idx])):\n",
    "            score = None\n",
    "            context = context\n",
    "            question = data[diag_idx][ans_idx]['question']\n",
    "            answer = data[diag_idx][ans_idx]['answer']        \n",
    "            \n",
    "            score = (rquge.scorer(context, question, answer))\n",
    "            data[diag_idx][ans_idx]['score'] = score\n",
    "            all_scores.append(score)\n",
    "            \n",
    "            if diag_idx < print_count:\n",
    "                print(\"context:\\t\\t\"  +context)\n",
    "                print(\"question:\\t\\t\" + question)\n",
    "                print(\"answer:\\t\\t\" + answer)\n",
    "                print(\"rquge:\\t\\t\" + str(score))\n",
    "                print(\"\\n\")\n",
    "                \n"
   ]
  },
  {
   "cell_type": "code",
   "execution_count": null,
   "id": "10eaeea7",
   "metadata": {},
   "outputs": [],
   "source": []
  },
  {
   "cell_type": "code",
   "execution_count": 18,
   "id": "ee8af91f",
   "metadata": {},
   "outputs": [
    {
     "name": "stdout",
     "output_type": "stream",
     "text": [
      "3.5657962279253272\n"
     ]
    }
   ],
   "source": [
    "average_rquge = sum(all_scores)/len(all_scores)\n",
    "print(average_rquge)"
   ]
  },
  {
   "cell_type": "code",
   "execution_count": null,
   "id": "51e0094a",
   "metadata": {},
   "outputs": [],
   "source": []
  },
  {
   "cell_type": "code",
   "execution_count": 19,
   "id": "d5005f45",
   "metadata": {},
   "outputs": [
    {
     "name": "stdout",
     "output_type": "stream",
     "text": [
      "file saved to WikiDialog_LLM_shot_100_scores.json\n"
     ]
    }
   ],
   "source": [
    "outputpath = path + '_scores.json'\n",
    "with open(outputpath, 'w') as f:\n",
    "    json.dump(data, f,indent=2)\n",
    "print(f\"file saved to {outputpath}\")"
   ]
  },
  {
   "cell_type": "code",
   "execution_count": null,
   "id": "f30d3644",
   "metadata": {},
   "outputs": [],
   "source": []
  }
 ],
 "metadata": {
  "kernelspec": {
   "display_name": "Python [conda:.conda-reinforcement]",
   "language": "python",
   "name": "conda-env-.conda-reinforcement-py"
  },
  "language_info": {
   "codemirror_mode": {
    "name": "ipython",
    "version": 3
   },
   "file_extension": ".py",
   "mimetype": "text/x-python",
   "name": "python",
   "nbconvert_exporter": "python",
   "pygments_lexer": "ipython3",
   "version": "3.9.7"
  }
 },
 "nbformat": 4,
 "nbformat_minor": 5
}
