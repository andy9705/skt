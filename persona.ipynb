{
 "cells": [
  {
   "cell_type": "code",
   "execution_count": 1,
   "metadata": {},
   "outputs": [],
   "source": [
    "import json\n",
    "import jsonlines\n",
    "import statistics\n",
    "from tqdm import tqdm\n",
    "import openai\n",
    "openai.api_key = ''"
   ]
  },
  {
   "cell_type": "code",
   "execution_count": 2,
   "metadata": {},
   "outputs": [],
   "source": [
    "with open('inference_data.json','r') as f: #inference_data.json\n",
    "    wiki = json.load(f)"
   ]
  },
  {
   "cell_type": "code",
   "execution_count": 7,
   "metadata": {},
   "outputs": [
    {
     "data": {
      "text/plain": [
       "{'title': 'Czechs in Argentina',\n",
       " 'answer': ['Czechs in Argentina The Czech immigration in Argentina began during the World War 1 and it was split in four periods.',\n",
       "  'It is estimated that around 40,000 Czechs arrived to Argentina until 1970.',\n",
       "  'Argentina has the largest Czech community in Latin America.',\n",
       "  'Czechs settled mainly in Buenos Aires, Gran La Plata, Rosario and Chaco.',\n",
       "  'There are four Czech immigration periods in Argentina.',\n",
       "  'The first one is slightly before to the World War 1, the second one from 1920 to 1930, the third one during the World War 2 and the fourth one, the smallest in migration proportion, during 1990. During the first two periods, the immigration group was mainly integrated by workers and farmers motivated by economic reasons.']}"
      ]
     },
     "execution_count": 7,
     "metadata": {},
     "output_type": "execute_result"
    }
   ],
   "source": [
    "wiki[0]"
   ]
  },
  {
   "cell_type": "code",
   "execution_count": 8,
   "metadata": {},
   "outputs": [
    {
     "name": "stdout",
     "output_type": "stream",
     "text": [
      "113678\n"
     ]
    }
   ],
   "source": [
    "print(len(wiki))"
   ]
  },
  {
   "cell_type": "code",
   "execution_count": 9,
   "metadata": {},
   "outputs": [],
   "source": [
    "num = 100"
   ]
  },
  {
   "cell_type": "code",
   "execution_count": 10,
   "metadata": {},
   "outputs": [
    {
     "name": "stderr",
     "output_type": "stream",
     "text": [
      "100%|██████████| 100/100 [26:59<00:00, 16.19s/it]  \n"
     ]
    }
   ],
   "source": [
    "###persona 부여\n",
    "## 1: 유치원생이 질문하는 듯한 느낌\n",
    "## 2: 교수님께 질문하는 공손한\n",
    "\n",
    "instruction = f\"You are an automatic assistant that generates appropriate question based on the predefined answer.\\n\"\n",
    "## 유치원생이 질문하는 듯한 느낌\n",
    "#persona = \"Generate questions with a tone as if a kindergarten student is asking.\\n\"\n",
    "## 학생이 교수님께 질문하는 듯한 느낌\n",
    "persona = \"Generate questions with the tone as if a student is asking a professor.\\n\"\n",
    "WikiDialog_LLM_instruction = []\n",
    "\n",
    "for i in tqdm(range(num)):\n",
    "    current_dialog = []\n",
    "    tmp = ''\n",
    "    for j in range(len(wiki[i]['answer'])):\n",
    "        answer = wiki[i]['answer'][j]\n",
    "        \n",
    "        \n",
    "        base = f\"\\\n",
    "        Please fill in only [BLANK] in the next dialogue.\\n \\\n",
    "        [START]\\n \"\n",
    "\n",
    "        QA_pair = f\"\\\n",
    "        A: [BLANK]\\n \\\n",
    "        B: {answer}\\n \\\n",
    "        [END]\"\n",
    "        \n",
    "        \n",
    "        PROMPT = instruction + persona + base + tmp + QA_pair\n",
    "        #print(PROMPT)\n",
    "        messages = [{\"role\": \"system\", \"content\": PROMPT}]\n",
    "        response = openai.chat.completions.create(\n",
    "                model=\"gpt-4\",\n",
    "                messages=messages,\n",
    "                temperature=0,\n",
    "                max_tokens=150)\n",
    "        question = response.choices[0].message.content\n",
    "        question = question.replace(\"A: \",\"\").replace('\\\\', '').replace('\"','').strip() # remove A and else...\n",
    "        \n",
    "        \n",
    "        tmp = tmp +  f\"A: {question}\\n B: {answer}\\n\"\n",
    "        current_dialog.append({\"question\": question, \"answer\": answer})\n",
    "    WikiDialog_LLM_instruction.append(current_dialog)"
   ]
  },
  {
   "cell_type": "code",
   "execution_count": 11,
   "metadata": {},
   "outputs": [],
   "source": [
    "with open(f'WikiDialog_LLM_instruction_student_to_professor.json', 'w') as json_file:\n",
    "    json.dump(WikiDialog_LLM_instruction, json_file, indent=2)"
   ]
  },
  {
   "cell_type": "code",
   "execution_count": 28,
   "metadata": {},
   "outputs": [],
   "source": [
    "with open('WikiDialog_LLM_instruction_kindergarten.json_scores.json','r') as f: #inference_data.json\n",
    "    kinder = json.load(f)\n",
    "with open('WikiDialog_LLM_instruction_polite_student_to_professor.json_scores.json','r') as f: #inference_data.json\n",
    "    polite = json.load(f)\n",
    "with open('WikiDialog_LLM_instruction_professor_to_student.json_scores.json','r') as f: #inference_data.json\n",
    "    professor = json.load(f)\n",
    "with open('WikiDialog_LLM_instruction_student_to_professor.json_scores.json','r') as f: #inference_data.json\n",
    "    student = json.load(f)"
   ]
  },
  {
   "cell_type": "code",
   "execution_count": 3,
   "metadata": {},
   "outputs": [
    {
     "name": "stdout",
     "output_type": "stream",
     "text": [
      " 231203_dialogsystem_project_edit-Copy1.ipynb\n",
      " 231203_dialogsystem_project_edit-Copy2.ipynb\n",
      " 231203_dialogsystem_project_edit.ipynb\n",
      " 231203_dialogsystem_project_rquge_scores.ipynb\n",
      " RQUGE_Score.sh\n",
      " WikiDialog_LLM_instruction_kindergarten.json\n",
      " WikiDialog_LLM_instruction_kindergarten.json_scores.json\n",
      " WikiDialog_LLM_instruction_polite_student_to_professor.json\n",
      " WikiDialog_LLM_instruction_polite_student_to_professor.json_scores.json\n",
      " WikiDialog_LLM_instruction_professor_to_student.json\n",
      " WikiDialog_LLM_instruction_professor_to_student.json_scores.json\n",
      " WikiDialog_LLM_instruction_student_to_professor.json\n",
      " WikiDialog_LLM_instruction_student_to_professor.json_scores.json\n",
      "'datasets2023-12-03 02:57:04.json'\n",
      " inference_data.json\n",
      " \u001b[0m\u001b[01;34mold\u001b[0m/\n",
      " output.txt\n",
      " \u001b[01;34mquip-512-mocha\u001b[0m/\n",
      " run_RQUGE.py\n"
     ]
    }
   ],
   "source": [
    "ls"
   ]
  },
  {
   "cell_type": "code",
   "execution_count": 4,
   "metadata": {},
   "outputs": [],
   "source": [
    "#dialogue_project/old/WikiDialog_LLM_instruction_100_scores.json\n",
    "#dialogue_project/old/WikiDialog_LLM_instruction_passage_title_100_scores.json\n",
    "\n",
    "with open('old/WikiDialog_LLM_instruction_passage_title_100_scores.json','r') as f: #inference_data.json\n",
    "    title = json.load(f)\n",
    "    \n",
    "with open('old/WikiDialog_LLM_instruction_100_scores.json','r') as f: #inference_data.json\n",
    "    instruction = json.load(f)"
   ]
  },
  {
   "cell_type": "code",
   "execution_count": 5,
   "metadata": {},
   "outputs": [],
   "source": [
    "average_score=dict()\n",
    "persona_type=['title','instruction']\n",
    "for persona in persona_type:\n",
    "    average_score[persona]=[]"
   ]
  },
  {
   "cell_type": "code",
   "execution_count": 6,
   "metadata": {},
   "outputs": [],
   "source": [
    "for i in range(len(title)):\n",
    "    temp=0\n",
    "    for j in range(len(title[i])):\n",
    "        temp+=title[i][j]['score']\n",
    "    average_score['title'].append(temp/len(title[i]))"
   ]
  },
  {
   "cell_type": "code",
   "execution_count": 7,
   "metadata": {},
   "outputs": [],
   "source": [
    "for i in range(len(instruction)):\n",
    "    temp=0\n",
    "    for j in range(len(instruction[i])):\n",
    "        temp+=instruction[i][j]['score']\n",
    "    average_score['instruction'].append(temp/len(instruction[i]))"
   ]
  },
  {
   "cell_type": "code",
   "execution_count": 27,
   "metadata": {},
   "outputs": [
    {
     "data": {
      "text/plain": [
       "[{'question': 'Who is Samuel Der-Yeghiayan?',\n",
       "  'answer': 'Samuel Der-Yeghiayan Samuel Der-Yeghiayan (born February 16, 1952) is a former United States District Judge of the United States District Court for the Northern District of Illinois.',\n",
       "  'score': 4.641402244567871},\n",
       " {'question': \"What is noteworthy about Samuel Der-Yeghiayan's appointment as a federal judge?\",\n",
       "  'answer': 'Confirmed in 2003, he is noteworthy for being the first Armenian immigrant federal judge in the United States.',\n",
       "  'score': 4.020795822143555},\n",
       " {'question': 'When did Samuel Der-Yeghiayan retire and where was he born and raised?',\n",
       "  'answer': 'He retired from active service in 2018. Der-Yeghiayan was born in Aleppo, Syria to Armenian parents and raised in Beirut, Lebanon.',\n",
       "  'score': 2.046229839324951},\n",
       " {'question': 'What age was Samuel Der-Yeghiayan when he moved to the United States?',\n",
       "  'answer': 'He moved to the United States at age 19.',\n",
       "  'score': 4.914449214935303},\n",
       " {'question': 'Where did Samuel Der-Yeghiayan receive his education and what degrees did he earn?',\n",
       "  'answer': 'He received his Bachelor of Arts degree in political science from Evangel University in Springfield, Missouri, in 1975, and his Juris Doctor from the Franklin Pierce Law Center (now known as the University of New Hampshire School of Law) in Concord, New Hampshire in 1978.',\n",
       "  'score': 2.662921667098999},\n",
       " {'question': \"What was Samuel Der-Yeghiayan's first job in his legal career?\",\n",
       "  'answer': \"He began his legal career as an Honor Law Graduate under the United States Attorney General's Honors Program.\",\n",
       "  'score': 4.443232536315918}]"
      ]
     },
     "execution_count": 27,
     "metadata": {},
     "output_type": "execute_result"
    }
   ],
   "source": [
    "num=84 \n",
    "title[num]"
   ]
  },
  {
   "cell_type": "code",
   "execution_count": 28,
   "metadata": {},
   "outputs": [
    {
     "data": {
      "text/plain": [
       "('Samuel Der-Yeghiayan',\n",
       " [{'question': 'Who is Samuel Der-Yeghiayan?',\n",
       "   'answer': 'Samuel Der-Yeghiayan Samuel Der-Yeghiayan (born February 16, 1952) is a former United States District Judge of the United States District Court for the Northern District of Illinois.',\n",
       "   'score': 4.641402244567871},\n",
       "  {'question': 'When was he confirmed and what is he particularly known for?',\n",
       "   'answer': 'Confirmed in 2003, he is noteworthy for being the first Armenian immigrant federal judge in the United States.',\n",
       "   'score': 4.321036338806152},\n",
       "  {'question': 'What is his background and when did he retire from his service?',\n",
       "   'answer': 'He retired from active service in 2018. Der-Yeghiayan was born in Aleppo, Syria to Armenian parents and raised in Beirut, Lebanon.',\n",
       "   'score': 4.077038288116455},\n",
       "  {'question': 'At what age did he move to the United States?',\n",
       "   'answer': 'He moved to the United States at age 19.',\n",
       "   'score': 4.925430774688721},\n",
       "  {'question': 'Where did he receive his education and what degrees did he earn?',\n",
       "   'answer': 'He received his Bachelor of Arts degree in political science from Evangel University in Springfield, Missouri, in 1975, and his Juris Doctor from the Franklin Pierce Law Center (now known as the University of New Hampshire School of Law) in Concord, New Hampshire in 1978.',\n",
       "   'score': 2.490689277648926},\n",
       "  {'question': 'What was the start of his legal career?',\n",
       "   'answer': \"He began his legal career as an Honor Law Graduate under the United States Attorney General's Honors Program.\",\n",
       "   'score': 4.592522621154785}])"
      ]
     },
     "execution_count": 28,
     "metadata": {},
     "output_type": "execute_result"
    }
   ],
   "source": [
    "wiki[num]['title'],instruction[num]"
   ]
  },
  {
   "cell_type": "code",
   "execution_count": null,
   "metadata": {},
   "outputs": [],
   "source": [
    "instruction[0]"
   ]
  },
  {
   "cell_type": "code",
   "execution_count": 10,
   "metadata": {},
   "outputs": [
    {
     "name": "stdout",
     "output_type": "stream",
     "text": [
      "title, instruction\n",
      "0 4.241254210472107 3.6870089371999106\n",
      "1 1.8522308468818665 3.5979541540145874\n",
      "2 4.195961236953735 4.028608163197835\n",
      "3 3.8360143105189004 3.4986937443415322\n",
      "4 3.5501325527826944 3.337218721707662\n",
      "5 3.732837518056234 3.644347310066223\n",
      "6 3.658749580383301 4.025002121925354\n",
      "7 3.2423744996388755 4.107247948646545\n",
      "8 2.050810217857361 2.920435070991516\n",
      "9 3.8894114891688027 3.023757815361023\n",
      "10 2.9635319908459983 4.056617021560669\n",
      "11 3.117670774459839 3.4991023540496826\n",
      "12 4.162436326344808 4.252162019411723\n",
      "13 3.8448652029037476 3.847372591495514\n",
      "14 3.6374402046203613 4.229695439338684\n",
      "15 2.8294990062713623 2.5072377622127533\n",
      "16 3.782657027244568 4.693100929260254\n",
      "17 3.6338963905970254 3.7476298014322915\n",
      "18 4.532158454259236 4.253901282946269\n",
      "19 3.8601222038269043 4.110776305198669\n",
      "20 3.835901896158854 4.372199932734172\n",
      "21 3.798807978630066 3.533073822657267\n",
      "22 3.2839154998461404 3.983028789361318\n",
      "23 3.3469309409459433 3.5929301182428994\n",
      "24 3.1549574931462607 3.3016669750213623\n",
      "25 3.5640472173690796 3.6250334978103638\n",
      "26 2.9451218048731485 2.881638010342916\n",
      "27 3.9994759956995645 3.6810922026634216\n",
      "28 2.534623086452484 3.546029289563497\n",
      "29 4.088096419970195 4.108276446660359\n",
      "30 3.005671670039495 3.3807786107063293\n",
      "31 4.166240632534027 4.03011292219162\n",
      "32 3.5809059739112854 3.257083455721537\n",
      "33 3.5390957593917847 3.8650516867637634\n",
      "34 3.425538102785746 3.316986540953318\n",
      "35 3.6490801175435386 2.8093934257825217\n",
      "36 1.9561610221862793 1.9510629177093506\n",
      "37 4.804201602935791 4.804201602935791\n",
      "38 3.0476032892862954 3.225821097691854\n",
      "39 4.017404794692993 2.7773807843526206\n",
      "40 4.314486265182495 4.444947242736816\n",
      "41 3.190753976504008 3.2641217708587646\n",
      "42 3.530951221783956 3.8787687619527182\n",
      "43 3.924299955368042 3.991608460744222\n",
      "44 3.456838846206665 2.7943049669265747\n",
      "45 3.6741830905278525 4.0062867403030396\n",
      "46 3.4268974661827087 4.086007436116536\n",
      "47 2.755726456642151 2.796456833680471\n",
      "48 3.4564581314722695 3.6293982664744058\n",
      "49 3.455937147140503 3.096461613972982\n",
      "50 2.7616440057754517 3.377389430999756\n",
      "51 3.016436437765757 3.70761771996816\n",
      "52 3.199706792831421 3.7285109758377075\n",
      "53 4.164756178855896 3.9882572889328003\n",
      "54 3.421611766020457 3.6323521931966147\n",
      "55 3.8617175817489624 4.206630229949951\n",
      "56 2.3230172395706177 2.450332204500834\n",
      "57 3.4771374464035034 3.5431753396987915\n",
      "58 1.4102887312571208 1.4133877754211426\n",
      "59 2.809405823548635 3.199245790640513\n",
      "60 3.7642979621887207 3.4806727170944214\n",
      "61 4.079691370328267 3.642977317174276\n",
      "62 4.10965883731842 4.052262902259827\n",
      "63 3.5179930925369263 3.4996382792790732\n",
      "64 3.1392112175623574 3.3936083714167276\n",
      "65 4.335994402567546 4.938892523447673\n",
      "66 3.760112166404724 3.9826661348342896\n",
      "67 3.409765640894572 4.0524987777074175\n",
      "68 4.37759526570638 4.039565086364746\n",
      "69 3.2502042849858603 3.0190727710723877\n",
      "70 3.557343769073486 3.5144394874572753\n",
      "71 3.919645309448242 4.256619453430176\n",
      "72 4.275934219360352 3.931005120277405\n",
      "73 3.241552174091339 3.651983996232351\n",
      "74 3.9095051288604736 4.697079181671143\n",
      "75 4.0424667199452715 3.9343862533569336\n",
      "76 3.540977934996287 3.3928608894348145\n",
      "77 3.08078134059906 2.799236555894216\n",
      "78 3.235475540161133 3.235475540161133\n",
      "79 4.065078854560852 3.9958994388580322\n",
      "80 3.6668323278427124 3.3904086351394653\n",
      "81 2.432818651199341 2.33676278591156\n",
      "82 3.7691558400789895 3.590591033299764\n",
      "83 3.0708924531936646 2.116333782672882\n",
      "84 3.788171887397766 4.174686590830485\n",
      "85 2.738700191179911 2.737259785334269\n",
      "86 4.777453899383545 4.9742255210876465\n",
      "87 4.468172669410706 4.459210991859436\n",
      "88 2.3585078716278076 3.1576552391052246\n",
      "89 3.2673773964246116 3.4872984886169434\n",
      "90 3.7501885890960693 3.508938471476237\n",
      "91 4.57635235786438 4.57635235786438\n",
      "92 3.352389693260193 4.383031407992045\n",
      "93 4.269384940465291 4.266098260879517\n",
      "94 4.570377747217814 4.238399108250936\n",
      "95 3.549166659514109 4.002029021581014\n",
      "96 3.663766066233317 3.0326298077901206\n",
      "97 3.2836851676305137 4.466752250989278\n",
      "98 3.8957449992497764 3.670231501261393\n",
      "99 3.5818438132603965 3.792946537335714\n"
     ]
    }
   ],
   "source": [
    "difference_max=0\n",
    "index=0\n",
    "temp=[]\n",
    "print(\"title, instruction\")\n",
    "for i in range(len(average_score['title'])):\n",
    "    \n",
    "    \n",
    "    \n",
    "    #temp.append([average_score['student'][i],average_score['polite'][i],average_score['kinder'][i],average_score['professor'][i]])\n",
    "    print(i,average_score['title'][i],average_score['instruction'][i])"
   ]
  },
  {
   "cell_type": "code",
   "execution_count": null,
   "metadata": {},
   "outputs": [],
   "source": []
  },
  {
   "cell_type": "code",
   "execution_count": 31,
   "metadata": {},
   "outputs": [],
   "source": [
    "average_score=dict()\n",
    "\n",
    "\n",
    "persona_type=['kinder','polite','professor','student']\n",
    "for persona in persona_type:\n",
    "    average_score[persona]=[]\n",
    "   "
   ]
  },
  {
   "cell_type": "code",
   "execution_count": 35,
   "metadata": {},
   "outputs": [],
   "source": [
    "for i in range(len(student)):\n",
    "    temp=0\n",
    "    for j in range(len(student[i])):\n",
    "        temp+=student[i][j]['score']\n",
    "    average_score['student'].append(temp/len(student[i]))\n"
   ]
  },
  {
   "cell_type": "code",
   "execution_count": 49,
   "metadata": {},
   "outputs": [
    {
     "name": "stdout",
     "output_type": "stream",
     "text": [
      "polite, student, kinder, professor\n",
      "0 [3.6567852099736533, 3.346644560496012, 3.3304516275723777, 3.6202032566070557]\n",
      "1 [2.258514702320099, 3.1596302588780723, 3.5484630266825357, 2.385486344496409]\n",
      "2 [3.0924575527509055, 2.8189639151096344, 3.864801287651062, 3.17166539033254]\n",
      "3 [2.316944142182668, 2.620239873727163, 3.3634960651397705, 2.652308762073517]\n",
      "4 [3.0677186449368796, 3.144486387570699, 3.2209473848342896, 2.8938809633255005]\n",
      "5 [3.0849194526672363, 2.4531315565109253, 3.6661837100982666, 2.545265873273214]\n",
      "6 [2.328707456588745, 3.473642349243164, 3.28950027624766, 3.4046090046564736]\n",
      "7 [2.0325583020846048, 3.029031674067179, 2.3141767978668213, 3.512774646282196]\n",
      "8 [2.3927407264709473, 2.5259755849838257, 2.607531189918518, 2.039141595363617]\n",
      "9 [2.7300833066304526, 3.358702619870504, 3.47654390335083, 3.410926600297292]\n",
      "10 [4.033601522445679, 2.7372705340385437, 3.914924065272013, 3.1009623805681863]\n",
      "11 [3.8956568241119385, 4.241907119750977, 3.0502870082855225, 3.443540334701538]\n",
      "12 [4.078135410944621, 3.6881818373998008, 3.6245708664258323, 3.322511355082194]\n",
      "13 [1.8529158532619476, 3.2930604815483093, 3.145510673522949, 3.2230920493602753]\n",
      "14 [2.8137810230255127, 3.121497392654419, 3.469450354576111, 3.1827980279922485]\n",
      "15 [2.3612369894981384, 2.8383973240852356, 3.0267786979675293, 2.930179715156555]\n",
      "16 [1.9712963104248047, 3.769084095954895, 4.499865293502808, 3.42704975605011]\n",
      "17 [2.354387581348419, 3.4428296089172363, 3.7901757955551147, 3.3461082776387534]\n",
      "18 [2.386737803618113, 3.7212957541147866, 3.1661025285720825, 3.2067564924558005]\n",
      "19 [2.2626909017562866, 3.170342286427816, 3.725709398587545, 3.2131574948628745]\n",
      "20 [3.086246351401011, 3.730876366297404, 3.1775238513946533, 3.3540502190589905]\n",
      "21 [2.347001572450002, 3.0882822473843894, 3.553853392601013, 2.9155171314875283]\n",
      "22 [2.308081567287445, 3.520425816377004, 3.3798447450002036, 3.207509477933248]\n",
      "23 [3.2529486417770386, 3.663745959599813, 3.7127169370651245, 3.6604718367258706]\n",
      "24 [2.6993457078933716, 3.0541906356811523, 3.5151658058166504, 3.061008930206299]\n",
      "25 [2.0938923358917236, 3.300426721572876, 2.796429693698883, 2.9521539211273193]\n",
      "26 [1.552857796351115, 2.670291225115458, 2.1127564112345376, 2.151717702547709]\n",
      "27 [2.3986138304074607, 3.1666943629582724, 3.401245435078939, 3.552488406499227]\n",
      "28 [3.0572768449783325, 1.7545827825864155, 3.1772300203641257, 2.3519411087036133]\n",
      "29 [2.051032225290934, 2.385336180528005, 4.02540119489034, 3.6324289043744407]\n",
      "30 [1.498686780532201, 2.497659186522166, 4.047908067703247, 2.243891636530558]\n",
      "31 [4.137512147426605, 4.192375123500824, 4.1104554533958435, 4.199842095375061]\n",
      "32 [3.264067610104879, 3.2142015298207602, 3.768002192179362, 3.278149942557017]\n",
      "33 [2.2572940587997437, 3.7360255122184753, 3.8393898606300354, 2.8583241999149323]\n",
      "34 [2.566066841284434, 2.316038409868876, 3.5501756270726523, 3.158378005027771]\n",
      "35 [3.611902634302775, 3.2043723662694297, 2.8981528282165527, 3.082864999771118]\n",
      "36 [4.725898742675781, 2.1507110595703125, 4.88425874710083, 4.096482753753662]\n",
      "37 [1.899397373199463, 3.6315393447875977, 4.815801382064819, 3.223566770553589]\n",
      "38 [3.3714835246404014, 3.1798003911972046, 3.793140232563019, 2.421127676963806]\n",
      "39 [3.0832408467928567, 2.228597621122996, 3.1817843119303384, 3.737521231174469]\n",
      "40 [2.144819736480713, 4.38274610042572, 4.060885071754456, 4.398775696754456]\n",
      "41 [2.4963961640993753, 2.854113300641378, 2.1432331800460815, 2.8440110286076865]\n",
      "42 [2.2634162505467734, 3.19342577457428, 2.5997204979260764, 2.496861696243286]\n",
      "43 [2.3268763422966003, 2.7846196492513022, 2.3494701385498047, 2.5298739075660706]\n",
      "44 [2.2214312156041465, 2.93308154741923, 2.709158976872762, 1.7678061922391255]\n",
      "45 [3.0967742602030435, 3.5860479275385537, 4.134450674057007, 3.7942707935969033]\n",
      "46 [3.0848244031270347, 3.18985652923584, 3.0679233074188232, 3.417612910270691]\n",
      "47 [1.9092837572097778, 3.065851887067159, 3.0915539860725403, 2.8286966482798257]\n",
      "48 [3.1642208894093833, 3.5690394242604575, 3.7687828143437705, 3.383134404818217]\n",
      "49 [2.5444253285725913, 2.7739046812057495, 3.1550735235214233, 2.8155022462209067]\n",
      "50 [3.0608909130096436, 3.240739862124125, 3.0056394735972085, 2.308534622192383]\n",
      "51 [3.21129580338796, 4.074126760164897, 4.066062808036804, 3.4726705153783164]\n",
      "52 [1.885865072409312, 3.1742537021636963, 3.7509979804356894, 2.8564321796099343]\n",
      "53 [2.588192860285441, 3.219347278277079, 4.329087932904561, 2.563315212726593]\n",
      "54 [2.1882627407709756, 2.9566201170285544, 3.5443675915400186, 2.423778712749481]\n",
      "55 [2.225678503513336, 3.824705481529236, 4.502811431884766, 3.0625873804092407]\n",
      "56 [2.131858378648758, 2.2769516905148826, 2.761127988497416, 2.2006608645121255]\n",
      "57 [2.7094143629074097, 3.366983413696289, 3.1389239033063254, 3.1954283316930137]\n",
      "58 [1.1557218631108601, 1.2313019037246704, 1.467386543750763, 1.514240562915802]\n",
      "59 [2.982428510983785, 3.2959423859914145, 2.0013513366381326, 3.9178797006607056]\n",
      "60 [2.134974241256714, 3.629038453102112, 2.2613940238952637, 3.5415313243865967]\n",
      "61 [2.775792400042216, 2.959740400314331, 3.787212530771891, 2.749066392580668]\n",
      "62 [2.60301011800766, 3.4233162005742392, 3.908770481745402, 3.0285882552464805]\n",
      "63 [2.1879668633143106, 2.912846803665161, 3.2626500129699707, 2.6202303767204285]\n",
      "64 [1.8867945472399394, 2.9142003059387207, 3.2600244681040444, 2.4883859554926553]\n",
      "65 [3.045041004816691, 3.7851714293162027, 4.913171132405599, 3.7915097872416177]\n",
      "66 [2.057112693786621, 1.7245320081710815, 2.7936018109321594, 4.028745889663696]\n",
      "67 [2.82890784740448, 2.8923524220784507, 3.1248480081558228, 3.1156838734944663]\n",
      "68 [2.140266199906667, 3.968089540799459, 3.6738783518473306, 3.128498832384745]\n",
      "69 [3.0782360633214316, 3.1304025252660117, 2.7099358240763345, 2.823936482270559]\n",
      "70 [3.0580595970153808, 3.120443058013916, 3.4775040626525877, 3.6728282928466798]\n",
      "71 [4.588071823120117, 4.053438186645508, 4.5823073387146, 4.1417927742004395]\n",
      "72 [2.435696800549825, 3.4716645081837973, 4.004119197527568, 3.1754732926686606]\n",
      "73 [1.9155605634053547, 3.0394291480382285, 3.3637134432792664, 2.633086601893107]\n",
      "74 [1.568069338798523, 3.991665244102478, 4.972873210906982, 2.150531053543091]\n",
      "75 [2.9911281069119773, 3.673134922981262, 3.283336063226064, 3.827310005823771]\n",
      "76 [2.5363795161247253, 3.956740419069926, 4.019488334655762, 3.2885459264119468]\n",
      "77 [3.843832711378733, 3.2038234074910483, 3.289308806260427, 2.5850186347961426]\n",
      "78 [2.5080370903015137, 3.0003167390823364, 3.810757279396057, 2.793671190738678]\n",
      "79 [3.02556304136912, 3.830510199069977, 3.8935407400131226, 3.8714822928110757]\n",
      "80 [2.184578855832418, 3.766787807146708, 2.768756866455078, 2.7030211289723716]\n",
      "81 [4.264165043830872, 2.4194254279136658, 2.724520266056061, 1.5064570307731628]\n",
      "82 [3.1436949570973716, 3.2608657280604043, 4.030481735865275, 3.0738088687260947]\n",
      "83 [3.445465922355652, 2.8681846857070923, 1.8366942405700684, 3.657485008239746]\n",
      "84 [2.1676205595334372, 3.171860913435618, 3.1220505833625793, 2.9972392320632935]\n",
      "85 [2.0980671644210815, 2.5034072200457254, 2.8465843995412192, 2.391950229803721]\n",
      "86 [4.996181011199951, 3.958777904510498, 4.9742255210876465, 3.8784804344177246]\n",
      "87 [2.4104612668355307, 4.461661616961162, 3.8237876892089844, 2.7776045004526773]\n",
      "88 [2.432457208633423, 2.6324808597564697, 2.200371026992798, 2.7308778762817383]\n",
      "89 [1.8227358063062031, 3.0167678793271384, 4.033633748690288, 2.4222407738367715]\n",
      "90 [1.7853157917658489, 3.3745731512705484, 3.2123082081476846, 3.0892653465270996]\n",
      "91 [2.83911794424057, 3.385433316230774, 4.414588212966919, 2.4570788145065308]\n",
      "92 [2.9187817176183066, 3.9813901782035828, 3.7526758909225464, 2.015068610509237]\n",
      "93 [2.9160708586374917, 3.4608056942621865, 4.696109135945638, 2.4227892557779946]\n",
      "94 [2.5463754534721375, 2.9574769139289856, 4.298893769582112, 3.3567744890848794]\n",
      "95 [2.436883548895518, 3.325165589650472, 3.461463689804077, 2.4051040609677634]\n",
      "96 [3.056804577509562, 2.636686146259308, 2.460425615310669, 3.3233921925226846]\n",
      "97 [1.886823872725169, 3.269113540649414, 4.13857889175415, 3.1188536485036216]\n",
      "98 [3.5198771953582764, 2.476521154244741, 4.048525492350261, 2.771770974000295]\n",
      "99 [1.6598200003306072, 3.0744388699531555, 4.2095686594645185, 2.5573673049608865]\n"
     ]
    }
   ],
   "source": [
    "difference_max=0\n",
    "index=0\n",
    "temp=[]\n",
    "print(\"polite, student, kinder, professor\")\n",
    "for i in range(len(average_score['student'])):\n",
    "    \n",
    "    \n",
    "    \n",
    "    #temp.append([average_score['student'][i],average_score['polite'][i],average_score['kinder'][i],average_score['professor'][i]])\n",
    "    print(i,[average_score['polite'][i],average_score['student'][i],average_score['kinder'][i],average_score['professor'][i]])\n",
    "\n"
   ]
  },
  {
   "cell_type": "code",
   "execution_count": 45,
   "metadata": {},
   "outputs": [
    {
     "data": {
      "text/plain": [
       "(2.385336180528005, 4.02540119489034)"
      ]
     },
     "execution_count": 45,
     "metadata": {},
     "output_type": "execute_result"
    }
   ],
   "source": [
    "average_score['student'][29],average_score['kinder'][29]"
   ]
  },
  {
   "cell_type": "code",
   "execution_count": 46,
   "metadata": {},
   "outputs": [
    {
     "data": {
      "text/plain": [
       "([{'question': \"Can you tell me who else was part of the 1987 All Japan Women's rookie class along with Toshiyo Yamada?\",\n",
       "   'answer': \"Toshiyo Yamada Toshiyo Yamada part of the 1987 All Japan Women's rookie class which also featured Manami Toyota, Etsuko Mita and Mima Shimoda.\",\n",
       "   'score': 1.9728389978408813},\n",
       "  {'question': 'Do you know when and against whom Toshiyo Yamada made her debut?',\n",
       "   'answer': 'Yamada debuted on July 27, 1987 against Chiaki Ichikawa.',\n",
       "   'score': 1.4990234375},\n",
       "  {'question': 'Could you tell me about any awards or recognitions Toshiyo Yamada received in her rookie year?',\n",
       "   'answer': \"Yamada was awarded the 1987 Rookie of the Year award by All Japan Women's.\",\n",
       "   'score': 1.6843276023864746},\n",
       "  {'question': 'Can you provide information on any championships Toshiyo Yamada won early in her career?',\n",
       "   'answer': 'On July 19, 1988, she captured the AJW Junior Championship in a tournament final against Miori Kamiya.',\n",
       "   'score': 2.795415163040161},\n",
       "  {'question': 'Who did Toshiyo Yamada form a team with in August 1988 and what was the team called?',\n",
       "   'answer': 'By August 1988, she formed \"Dream Orca\" with Etsuko Mita.',\n",
       "   'score': 3.7868523597717285},\n",
       "  {'question': 'Can you tell me about any successful title defenses Toshiyo Yamada had in her early career?',\n",
       "   'answer': 'On August 25, 1988, she successfully defended her AJW Junior Championship against Sachiko Nakamura.',\n",
       "   'score': 2.573559522628784}],\n",
       " [{'question': 'Who is Toshiyo Yamada and what group was she a part of?',\n",
       "   'answer': \"Toshiyo Yamada Toshiyo Yamada part of the 1987 All Japan Women's rookie class which also featured Manami Toyota, Etsuko Mita and Mima Shimoda.\",\n",
       "   'score': 3.5977580547332764},\n",
       "  {'question': 'When did Toshiyo Yamada start wrestling and who was her first opponent?',\n",
       "   'answer': 'Yamada debuted on July 27, 1987 against Chiaki Ichikawa.',\n",
       "   'score': 4.9005255699157715},\n",
       "  {'question': 'What award did Toshiyo Yamada win in her first year of wrestling?',\n",
       "   'answer': \"Yamada was awarded the 1987 Rookie of the Year award by All Japan Women's.\",\n",
       "   'score': 4.517862319946289},\n",
       "  {'question': 'What championship did Toshiyo Yamada win in 1988 and who did she compete against to get it?',\n",
       "   'answer': 'On July 19, 1988, she captured the AJW Junior Championship in a tournament final against Miori Kamiya.',\n",
       "   'score': 2.9548001289367676},\n",
       "  {'question': 'Who did Toshiyo Yamada team up with to form Dream Orca and when did this happen?',\n",
       "   'answer': 'By August 1988, she formed \"Dream Orca\" with Etsuko Mita.',\n",
       "   'score': 3.4393770694732666},\n",
       "  {'question': 'Who did Toshiyo Yamada defend her AJW Junior Championship against on August 25, 1988?',\n",
       "   'answer': 'On August 25, 1988, she successfully defended her AJW Junior Championship against Sachiko Nakamura.',\n",
       "   'score': 4.74208402633667}],\n",
       " {'title': 'Toshiyo Yamada',\n",
       "  'answer': [\"Toshiyo Yamada Toshiyo Yamada part of the 1987 All Japan Women's rookie class which also featured Manami Toyota, Etsuko Mita and Mima Shimoda.\",\n",
       "   'Yamada debuted on July 27, 1987 against Chiaki Ichikawa.',\n",
       "   \"Yamada was awarded the 1987 Rookie of the Year award by All Japan Women's.\",\n",
       "   'On July 19, 1988, she captured the AJW Junior Championship in a tournament final against Miori Kamiya.',\n",
       "   'By August 1988, she formed \"Dream Orca\" with Etsuko Mita.',\n",
       "   'On August 25, 1988, she successfully defended her AJW Junior Championship against Sachiko Nakamura.']})"
      ]
     },
     "execution_count": 46,
     "metadata": {},
     "output_type": "execute_result"
    }
   ],
   "source": [
    "student[29],kinder[29],wiki[29]"
   ]
  },
  {
   "cell_type": "markdown",
   "metadata": {},
   "source": [
    "# base prompt 사용"
   ]
  },
  {
   "cell_type": "code",
   "execution_count": 6,
   "metadata": {},
   "outputs": [
    {
     "name": "stderr",
     "output_type": "stream",
     "text": [
      "100%|██████████| 100/100 [40:26<00:00, 24.27s/it]  \n"
     ]
    }
   ],
   "source": [
    "\n",
    "WikiDialog_LLM = []\n",
    "\n",
    "for i in tqdm(range(num)):\n",
    "    current_dialog = []\n",
    "    tmp = ''\n",
    "    for j in range(len(wiki[i]['answer'])):\n",
    "        answer = wiki[i]['answer'][j]\n",
    "\n",
    "        base = f\"\\\n",
    "        Please fill in only [BLANK] in the next dialogue.\\n \\\n",
    "        [START]\\n \"\n",
    "\n",
    "        QA_pair = f\"\\\n",
    "        A: [BLANK]\\n \\\n",
    "        B: {answer}\\n \\\n",
    "        [END]\"\n",
    "        \n",
    "        \n",
    "        PROMPT = base + tmp + QA_pair\n",
    "#         print(PROMPT)\n",
    "        messages = [{\"role\": \"system\", \"content\": PROMPT}]\n",
    "        response = openai.chat.completions.create(\n",
    "                model=\"gpt-4\",\n",
    "                messages=messages,\n",
    "                temperature=0,\n",
    "                max_tokens=150)\n",
    "        question = response.choices[0].message.content\n",
    "        question = question.replace(\"A: \",\"\").replace('\\\\', '').replace('\"','').strip() # remove A and else...\n",
    "        \n",
    "        tmp = tmp +  f\"\\nA: {question}\\n B: {answer}\"\n",
    "        current_dialog.append({\"question\": question, \"answer\": answer})\n",
    "    WikiDialog_LLM.append(current_dialog)"
   ]
  },
  {
   "cell_type": "code",
   "execution_count": 7,
   "metadata": {},
   "outputs": [
    {
     "name": "stdout",
     "output_type": "stream",
     "text": [
      "        Please fill in only [BLANK] in the next dialogue.\n",
      "         [START]\n",
      " \n"
     ]
    }
   ],
   "source": [
    "print(base)"
   ]
  },
  {
   "cell_type": "code",
   "execution_count": null,
   "metadata": {},
   "outputs": [],
   "source": [
    "WikiDialog_LLM"
   ]
  },
  {
   "cell_type": "markdown",
   "metadata": {},
   "source": [
    "# with instruction"
   ]
  },
  {
   "cell_type": "code",
   "execution_count": 14,
   "metadata": {},
   "outputs": [],
   "source": [
    "instruction = f\"You are an automatic assistant that generates appropriate question based on the predefined answer.\\n\""
   ]
  },
  {
   "cell_type": "code",
   "execution_count": 15,
   "metadata": {},
   "outputs": [
    {
     "name": "stderr",
     "output_type": "stream",
     "text": [
      "100%|██████████| 100/100 [22:47<00:00, 13.68s/it]  \n"
     ]
    }
   ],
   "source": [
    "\n",
    "WikiDialog_LLM_instruction = []\n",
    "\n",
    "for i in tqdm(range(num)):\n",
    "    current_dialog = []\n",
    "    tmp = ''\n",
    "    for j in range(len(wiki[i]['answer'])):\n",
    "        answer = wiki[i]['answer'][j]\n",
    "        \n",
    "        \n",
    "        base = f\"\\\n",
    "        Please fill in only [BLANK] in the next dialogue.\\n \\\n",
    "        [START]\\n \"\n",
    "\n",
    "        QA_pair = f\"\\\n",
    "        A: [BLANK]\\n \\\n",
    "        B: {answer}\\n \\\n",
    "        [END]\"\n",
    "        \n",
    "        \n",
    "        PROMPT = instruction + base + tmp + QA_pair\n",
    "        #print(PROMPT)\n",
    "        messages = [{\"role\": \"system\", \"content\": PROMPT}]\n",
    "        response = openai.chat.completions.create(\n",
    "                model=\"gpt-4\",\n",
    "                messages=messages,\n",
    "                temperature=0,\n",
    "                max_tokens=150)\n",
    "        question = response.choices[0].message.content\n",
    "        question = question.replace(\"A: \",\"\").replace('\\\\', '').replace('\"','').strip() # remove A and else...\n",
    "        \n",
    "        \n",
    "        tmp = tmp +  f\"A: {question}\\n B: {answer}\\n\"\n",
    "        current_dialog.append({\"question\": question, \"answer\": answer})\n",
    "    WikiDialog_LLM_instruction.append(current_dialog)"
   ]
  },
  {
   "cell_type": "code",
   "execution_count": null,
   "metadata": {},
   "outputs": [],
   "source": [
    "WikiDialog_LLM_instruction"
   ]
  },
  {
   "cell_type": "markdown",
   "metadata": {},
   "source": [
    "# with instruction & passage title"
   ]
  },
  {
   "cell_type": "code",
   "execution_count": null,
   "metadata": {},
   "outputs": [],
   "source": [
    "\n",
    "WikiDialog_LLM_instruction_passage_title = []\n",
    "\n",
    "for i in tqdm(range(num)):\n",
    "    current_dialog = []\n",
    "    tmp = ''\n",
    "    dialog_topic = wiki[i]['title']\n",
    "    for j in range(len(wiki[i]['answer'])):\n",
    "        answer = wiki[i]['answer'][j]\n",
    "        \n",
    "        base = f\"\\\n",
    "        Please fill in only [BLANK] in the next dialogue.\\n \\\n",
    "        [START]\\n \"\n",
    "\n",
    "        QA_pair = f\"\\\n",
    "        A: [BLANK]\\n \\\n",
    "        B: {answer}\\n \\\n",
    "        [END]\"\n",
    "        title_hint = f\"The conversation is about {dialog_topic}.\\n\"\n",
    "        \n",
    "        \n",
    "        PROMPT = instruction + title_hint + base + tmp + QA_pair\n",
    "        print(PROMPT)\n",
    "        messages = [{\"role\": \"system\", \"content\": PROMPT}]\n",
    "        response = openai.chat.completions.create(\n",
    "                model=\"gpt-4\",\n",
    "                messages=messages,\n",
    "                temperature=0,\n",
    "                max_tokens=150)\n",
    "        question = response.choices[0].message.content \n",
    "        question = question.replace(\"A: \",\"\").replace('\\\\', '').replace('\"','').strip() # remove A and else...\n",
    "        \n",
    "        \n",
    "        tmp = tmp +  f\"A: {question}\\n B: {answer}\\n\"\n",
    "        current_dialog.append({\"question\": question, \"answer\": answer})\n",
    "    WikiDialog_LLM_instruction_passage_title.append(current_dialog)"
   ]
  },
  {
   "cell_type": "code",
   "execution_count": null,
   "metadata": {},
   "outputs": [],
   "source": []
  },
  {
   "cell_type": "markdown",
   "metadata": {},
   "source": [
    "# One shot "
   ]
  },
  {
   "cell_type": "code",
   "execution_count": 32,
   "metadata": {},
   "outputs": [],
   "source": [
    "# sample = \"\"\"\n",
    "# 'You are an automatic assistant that generates appropriate question based on the predefined answer.\n",
    "# The conversation is about Arthur F. Hebard.\n",
    "# Please fill in only [BLANK] in the next dialogue.\n",
    "# [START] \n",
    "# A: Who is Arthur F. Hebard?\n",
    "# B: Arthur F. Hebard  Arthur Foster Hebard (born 2 March 1940) is Distinguished Professor of Physics at University of Florida in Gainesville, Florida.\n",
    "# A: What is Arthur F. Hebard particularly noted for?\n",
    "# B: He is particularly noted for leading the discovery of superconductivity in Buckminsterfullerene in 1991.\n",
    "# A: Where did Arthur F. Hebard receive his education?\n",
    "# B: Art Hebard attended The Hotchkiss School and graduated with a BA in Physics from Yale University in 1962.\n",
    "# A: Who was Arthur F. Hebard\\'s PhD advisor and what was his thesis about?\n",
    "# B: He obtained his PhD from Stanford University in 1971 under William M. Fairbank with thesis \"Search for fractional charge using low temperature techniques\".\n",
    "# A: What was Arthur F. Hebard\\'s career path after completing his PhD?\n",
    "# B: After a spell as a Research Associate at Stanford, he became a member of the Technical Staff at AT&T Bell Telephone Laboratories.\n",
    "# A: [BLANK]\n",
    "# B: He moved to the University of Florida as a Professor in 1996, and in 2007 was given the title of Distinguished Professor.\n",
    "# [END]'\n",
    "# \"\"\""
   ]
  },
  {
   "cell_type": "code",
   "execution_count": 39,
   "metadata": {},
   "outputs": [],
   "source": [
    "shot_1 = \"\"\"\n",
    "Please fill in only [BLANK] in the next dialogue.\n",
    "[START] \n",
    "A: Who is Michael Jordan?\n",
    "B: Michael Jeffrey Jordan also known by his initials MJ, is an American businessman and former professional basketball player. \n",
    "A: Is Michael Jordan the greatest player?\n",
    "B: His profile on the official National Basketball Association (NBA) website states that 'by acclamation, Michael Jordan is the greatest basketball player of all time.'\n",
    "A: How many games did Michael Jordan play and won?\n",
    "B: He played fifteen seasons in the NBA, winning six NBA championships with the Chicago Bulls. \n",
    "A: [BLANK]\n",
    "B: He was integral in popularizing the sport of basketball and the NBA around the world in the 1980s and 1990s, becoming a global cultural icon.\n",
    "[END]\n",
    "How could Michael Jordan be described in terms of global influence?\n",
    "\n",
    "\n",
    "\"\"\""
   ]
  },
  {
   "cell_type": "code",
   "execution_count": 42,
   "metadata": {},
   "outputs": [
    {
     "name": "stderr",
     "output_type": "stream",
     "text": [
      "100%|██████████| 100/100 [11:53<00:00,  7.14s/it]\n"
     ]
    }
   ],
   "source": [
    "\n",
    "WikiDialog_LLM_shot = []\n",
    "\n",
    "for i in tqdm(range(num)):\n",
    "    current_dialog = []\n",
    "    tmp = ''\n",
    "    for j in range(len(wiki[i]['answer'])):\n",
    "        answer = wiki[i]['answer'][j]\n",
    "        \n",
    "        \n",
    "        shot = shot_1\n",
    "        \n",
    "        \n",
    "        base = f\"\\\n",
    "        Please fill in only [BLANK] in the next dialogue.\\n \\\n",
    "        [START]\\n \"\n",
    "\n",
    "        QA_pair = f\"\\\n",
    "        A: [BLANK]\\n \\\n",
    "        B: {answer}\\n \\\n",
    "        [END]\"\n",
    "        \n",
    "        \n",
    "        PROMPT = shot + base + tmp + QA_pair\n",
    "        #print(PROMPT)\n",
    "        messages = [{\"role\": \"system\", \"content\": PROMPT}]\n",
    "        response = openai.chat.completions.create(\n",
    "                model=\"gpt-4\",\n",
    "                messages=messages,\n",
    "                temperature=0,\n",
    "                max_tokens=150)\n",
    "        question = response.choices[0].message.content\n",
    "        question = question.replace(\"A: \",\"\").replace('\\\\', '').replace('\"','').strip() # remove A and else...\n",
    "        \n",
    "        \n",
    "        tmp = tmp +  f\"A: {question}\\n B: {answer}\\n\"\n",
    "        current_dialog.append({\"question\": question, \"answer\": answer})\n",
    "    WikiDialog_LLM_shot.append(current_dialog)"
   ]
  },
  {
   "cell_type": "code",
   "execution_count": 41,
   "metadata": {},
   "outputs": [
    {
     "data": {
      "text/plain": [
       "[[{'question': 'What can you tell me about Czech immigration in Argentina?',\n",
       "   'answer': 'Czechs in Argentina The Czech immigration in Argentina began during the World War 1 and it was split in four periods.'},\n",
       "  {'question': 'How many Czechs immigrated to Argentina?',\n",
       "   'answer': 'It is estimated that around 40,000 Czechs arrived to Argentina until 1970.'},\n",
       "  {'question': 'What is the significance of the Czech community in Argentina?',\n",
       "   'answer': 'Argentina has the largest Czech community in Latin America.'},\n",
       "  {'question': 'Where did the Czechs mainly settle in Argentina?',\n",
       "   'answer': 'Czechs settled mainly in Buenos Aires, Gran La Plata, Rosario and Chaco.'},\n",
       "  {'question': 'Can you tell me more about these four periods of Czech immigration?',\n",
       "   'answer': 'There are four Czech immigration periods in Argentina.'},\n",
       "  {'question': 'What were the main reasons for Czech immigration during these periods?',\n",
       "   'answer': 'The first one is slightly before to the World War 1, the second one from 1920 to 1930, the third one during the World War 2 and the fourth one, the smallest in migration proportion, during 1990. During the first two periods, the immigration group was mainly integrated by workers and farmers motivated by economic reasons.'}],\n",
       " [{'question': 'What is common ground in communication?',\n",
       "   'answer': 'Common ground (communication technique) Common ground is the overlap between the positions of parties that may otherwise disagree.'},\n",
       "  {'question': 'What does finding common ground mean?',\n",
       "   'answer': '\" Finding common ground\" is a technique people use to facilitate interpersonal relationships.'},\n",
       "  {'question': 'How do you find common ground between parties?',\n",
       "   'answer': 'To find common ground between parties, participants must search for signals of recognition, which are often subtle and prone to misunderstanding.'},\n",
       "  {'question': 'What are some examples of these signals?',\n",
       "   'answer': 'Generally, smiles, bland faces, or frowns can be the positive, neutral, or negative signals.'},\n",
       "  {'question': 'What happens when verbal communication is possible?',\n",
       "   'answer': 'When verbal communication is possible, the participants can speak and then listen.'},\n",
       "  {'question': 'What role do visual cues play in establishing common ground?',\n",
       "   'answer': 'Another aspect to establishing common ground is the use of visual cues.'}],\n",
       " [{'question': 'What happens to her in the end?',\n",
       "   'answer': 'A furious Paul kills her.'},\n",
       "  {'question': 'What happens between Susan and Mike?',\n",
       "   'answer': 'Meanwhile, Susan and Mike make peace by having sex for the first time.'},\n",
       "  {'question': 'Who is Mary Alice Young?',\n",
       "   'answer': 'Mary Alice Young (Brenda Strong) is seen in this episode.'},\n",
       "  {'question': \"What song is played during Lynette's dream?\",\n",
       "   'answer': '\"The 59th Street Bridge Song (Feelin\\' Groovy)\" by Harpers Bizarre and Simon & Garfunkel is played during Lynette\\'s disturbing dream.'},\n",
       "  {'question': \"What was the original concept for Lynette's dream?\",\n",
       "   'answer': 'Originally the dream was to have Lynette driving through the country with her kids who were in the backseat and then proceeding to drive the car into a lake, drowning her kids, à la Susan Smith who did this very thing in South Carolina.'},\n",
       "  {'question': \"Why was the original concept for Lynette's dream changed?\",\n",
       "   'answer': 'ABC Execs were against the idea of Lynette killing her kids and Marc Cherry changed the dream to being one about suicide, thus Mary Alice was shown.'}]]"
      ]
     },
     "execution_count": 41,
     "metadata": {},
     "output_type": "execute_result"
    }
   ],
   "source": [
    "WikiDialog_LLM_shot"
   ]
  },
  {
   "cell_type": "code",
   "execution_count": null,
   "metadata": {},
   "outputs": [],
   "source": []
  },
  {
   "cell_type": "markdown",
   "metadata": {},
   "source": [
    "# Save json"
   ]
  },
  {
   "cell_type": "code",
   "execution_count": 18,
   "metadata": {},
   "outputs": [
    {
     "data": {
      "text/plain": [
       "[[{'question': 'Can you tell me about the history of Czech immigration in Argentina?',\n",
       "   'answer': 'Czechs in Argentina The Czech immigration in Argentina began during the World War 1 and it was split in four periods.'},\n",
       "  {'question': 'How many Czechs are estimated to have immigrated to Argentina?',\n",
       "   'answer': 'It is estimated that around 40,000 Czechs arrived to Argentina until 1970.'},\n",
       "  {'question': 'What is the status of the Czech community in Argentina today?',\n",
       "   'answer': 'Argentina has the largest Czech community in Latin America.'},\n",
       "  {'question': 'What areas did the Czechs primarily settle in?',\n",
       "   'answer': 'Czechs settled mainly in Buenos Aires, Gran La Plata, Rosario and Chaco.'},\n",
       "  {'question': 'What are the four periods of Czech immigration in Argentina?',\n",
       "   'answer': 'There are four Czech immigration periods in Argentina.'},\n",
       "  {'question': 'Can you tell me more about the reasons for immigration during the third and fourth periods?',\n",
       "   'answer': 'The first one is slightly before to the World War 1, the second one from 1920 to 1930, the third one during the World War 2 and the fourth one, the smallest in migration proportion, during 1990. During the first two periods, the immigration group was mainly integrated by workers and farmers motivated by economic reasons.'}],\n",
       " [{'question': 'Can you explain what is meant by the term common ground in communication?',\n",
       "   'answer': 'Common ground (communication technique) Common ground is the overlap between the positions of parties that may otherwise disagree.'},\n",
       "  {'question': \"So, it's a way to find agreement and understanding in a conversation?\",\n",
       "   'answer': '\" Finding common ground\" is a technique people use to facilitate interpersonal relationships.'},\n",
       "  {'question': 'How do participants find this common ground?',\n",
       "   'answer': 'To find common ground between parties, participants must search for signals of recognition, which are often subtle and prone to misunderstanding.'},\n",
       "  {'question': 'What are some examples of these signals?',\n",
       "   'answer': 'Generally, smiles, bland faces, or frowns can be the positive, neutral, or negative signals.'},\n",
       "  {'question': 'So, body language and verbal communication both play a role in finding common ground?',\n",
       "   'answer': 'When verbal communication is possible, the participants can speak and then listen.'},\n",
       "  {'question': 'What kind of visual cues are we talking about?',\n",
       "   'answer': 'Another aspect to establishing common ground is the use of visual cues.'}]]"
      ]
     },
     "execution_count": 18,
     "metadata": {},
     "output_type": "execute_result"
    }
   ],
   "source": [
    "WikiDialog_LLM[:2]"
   ]
  },
  {
   "cell_type": "code",
   "execution_count": 19,
   "metadata": {},
   "outputs": [
    {
     "data": {
      "text/plain": [
       "[[{'question': 'Can you tell me about the history of Czech immigration in Argentina?',\n",
       "   'answer': 'Czechs in Argentina The Czech immigration in Argentina began during the World War 1 and it was split in four periods.'},\n",
       "  {'question': 'How many Czechs are estimated to have immigrated to Argentina by 1970?',\n",
       "   'answer': 'It is estimated that around 40,000 Czechs arrived to Argentina until 1970.'},\n",
       "  {'question': 'Which Latin American country has the largest Czech community?',\n",
       "   'answer': 'Argentina has the largest Czech community in Latin America.'},\n",
       "  {'question': 'Where did the majority of Czechs settle in Argentina?',\n",
       "   'answer': 'Czechs settled mainly in Buenos Aires, Gran La Plata, Rosario and Chaco.'},\n",
       "  {'question': 'What are the four periods of Czech immigration in Argentina?',\n",
       "   'answer': 'There are four Czech immigration periods in Argentina.'},\n",
       "  {'question': 'Can you describe the characteristics of the immigrants during the first two periods of Czech immigration in Argentina?',\n",
       "   'answer': 'The first one is slightly before to the World War 1, the second one from 1920 to 1930, the third one during the World War 2 and the fourth one, the smallest in migration proportion, during 1990. During the first two periods, the immigration group was mainly integrated by workers and farmers motivated by economic reasons.'}],\n",
       " [{'question': 'Can you explain what is meant by the term common ground in the context of communication?',\n",
       "   'answer': 'Common ground (communication technique) Common ground is the overlap between the positions of parties that may otherwise disagree.'},\n",
       "  {'question': 'Can you elaborate on how finding common ground is used in interpersonal relationships?',\n",
       "   'answer': '\" Finding common ground\" is a technique people use to facilitate interpersonal relationships.'},\n",
       "  {'question': 'What is the process of finding common ground between parties in a conversation?',\n",
       "   'answer': 'To find common ground between parties, participants must search for signals of recognition, which are often subtle and prone to misunderstanding.'},\n",
       "  {'question': 'What are some examples of signals of recognition in a conversation?',\n",
       "   'answer': 'Generally, smiles, bland faces, or frowns can be the positive, neutral, or negative signals.'},\n",
       "  {'question': 'How does verbal communication contribute to finding common ground in a conversation?',\n",
       "   'answer': 'When verbal communication is possible, the participants can speak and then listen.'},\n",
       "  {'question': 'What role do visual cues play in establishing common ground?',\n",
       "   'answer': 'Another aspect to establishing common ground is the use of visual cues.'}]]"
      ]
     },
     "execution_count": 19,
     "metadata": {},
     "output_type": "execute_result"
    }
   ],
   "source": [
    "WikiDialog_LLM_instruction[:2]"
   ]
  },
  {
   "cell_type": "code",
   "execution_count": 20,
   "metadata": {},
   "outputs": [
    {
     "data": {
      "text/plain": [
       "[[{'question': 'Can you tell me about the history of Czech immigration in Argentina?',\n",
       "   'answer': 'Czechs in Argentina The Czech immigration in Argentina began during the World War 1 and it was split in four periods.'},\n",
       "  {'question': 'How many Czechs are estimated to have immigrated to Argentina by 1970?',\n",
       "   'answer': 'It is estimated that around 40,000 Czechs arrived to Argentina until 1970.'},\n",
       "  {'question': 'Which Latin American country has the largest Czech community?',\n",
       "   'answer': 'Argentina has the largest Czech community in Latin America.'},\n",
       "  {'question': 'Where did the Czechs mainly settle in Argentina?',\n",
       "   'answer': 'Czechs settled mainly in Buenos Aires, Gran La Plata, Rosario and Chaco.'},\n",
       "  {'question': 'Can you elaborate on the four periods of Czech immigration in Argentina?',\n",
       "   'answer': 'There are four Czech immigration periods in Argentina.'},\n",
       "  {'question': 'What were the characteristics of each of these immigration periods?',\n",
       "   'answer': 'The first one is slightly before to the World War 1, the second one from 1920 to 1930, the third one during the World War 2 and the fourth one, the smallest in migration proportion, during 1990. During the first two periods, the immigration group was mainly integrated by workers and farmers motivated by economic reasons.'}],\n",
       " [{'question': \"Can you explain what is meant by the term 'Common ground' in the context of communication techniques?\",\n",
       "   'answer': 'Common ground (communication technique) Common ground is the overlap between the positions of parties that may otherwise disagree.'},\n",
       "  {'question': 'Can you elaborate on how finding common ground is used to facilitate interpersonal relationships?',\n",
       "   'answer': '\" Finding common ground\" is a technique people use to facilitate interpersonal relationships.'},\n",
       "  {'question': 'Can you explain how these signals of recognition are identified and how they can lead to misunderstandings?',\n",
       "   'answer': 'To find common ground between parties, participants must search for signals of recognition, which are often subtle and prone to misunderstanding.'},\n",
       "  {'question': 'Can you provide examples of how these signals, such as smiles, bland faces, or frowns, can be interpreted differently in different contexts?',\n",
       "   'answer': 'Generally, smiles, bland faces, or frowns can be the positive, neutral, or negative signals.'},\n",
       "  {'question': 'Can you explain how verbal communication can help in identifying these signals and avoiding misunderstandings?',\n",
       "   'answer': 'When verbal communication is possible, the participants can speak and then listen.'},\n",
       "  {'question': 'Can you elaborate on how visual cues can be used to establish common ground?',\n",
       "   'answer': 'Another aspect to establishing common ground is the use of visual cues.'}]]"
      ]
     },
     "execution_count": 20,
     "metadata": {},
     "output_type": "execute_result"
    }
   ],
   "source": [
    "WikiDialog_LLM_instruction_passage_title[:2]"
   ]
  },
  {
   "cell_type": "code",
   "execution_count": 43,
   "metadata": {},
   "outputs": [
    {
     "data": {
      "text/plain": [
       "[[{'question': 'What can you tell me about Czech immigration in Argentina?',\n",
       "   'answer': 'Czechs in Argentina The Czech immigration in Argentina began during the World War 1 and it was split in four periods.'},\n",
       "  {'question': 'How many Czechs immigrated to Argentina?',\n",
       "   'answer': 'It is estimated that around 40,000 Czechs arrived to Argentina until 1970.'},\n",
       "  {'question': 'What is the significance of the Czech community in Argentina?',\n",
       "   'answer': 'Argentina has the largest Czech community in Latin America.'},\n",
       "  {'question': 'Where did the Czechs mainly settle in Argentina?',\n",
       "   'answer': 'Czechs settled mainly in Buenos Aires, Gran La Plata, Rosario and Chaco.'},\n",
       "  {'question': 'What are the four periods of Czech immigration in Argentina?',\n",
       "   'answer': 'There are four Czech immigration periods in Argentina.'},\n",
       "  {'question': 'Can you tell me more about each period of Czech immigration?',\n",
       "   'answer': 'The first one is slightly before to the World War 1, the second one from 1920 to 1930, the third one during the World War 2 and the fourth one, the smallest in migration proportion, during 1990. During the first two periods, the immigration group was mainly integrated by workers and farmers motivated by economic reasons.'}],\n",
       " [{'question': 'What is common ground in communication?',\n",
       "   'answer': 'Common ground (communication technique) Common ground is the overlap between the positions of parties that may otherwise disagree.'},\n",
       "  {'question': 'What does finding common ground mean?',\n",
       "   'answer': '\" Finding common ground\" is a technique people use to facilitate interpersonal relationships.'},\n",
       "  {'question': 'How do you find common ground between parties?',\n",
       "   'answer': 'To find common ground between parties, participants must search for signals of recognition, which are often subtle and prone to misunderstanding.'},\n",
       "  {'question': 'What are some examples of these signals?',\n",
       "   'answer': 'Generally, smiles, bland faces, or frowns can be the positive, neutral, or negative signals.'},\n",
       "  {'question': 'What happens when verbal communication is possible?',\n",
       "   'answer': 'When verbal communication is possible, the participants can speak and then listen.'},\n",
       "  {'question': 'What role do visual cues play in establishing common ground?',\n",
       "   'answer': 'Another aspect to establishing common ground is the use of visual cues.'}]]"
      ]
     },
     "execution_count": 43,
     "metadata": {},
     "output_type": "execute_result"
    }
   ],
   "source": [
    "WikiDialog_LLM_shot[:2]"
   ]
  },
  {
   "cell_type": "code",
   "execution_count": null,
   "metadata": {},
   "outputs": [],
   "source": []
  },
  {
   "cell_type": "code",
   "execution_count": 21,
   "metadata": {
    "scrolled": true
   },
   "outputs": [
    {
     "name": "stdout",
     "output_type": "stream",
     "text": [
      "100\n",
      "100\n",
      "100\n"
     ]
    }
   ],
   "source": [
    "print(len(WikiDialog_LLM))\n",
    "print(len(WikiDialog_LLM_instruction))\n",
    "print(len(WikiDialog_LLM_instruction_passage_title))\n",
    "print(len(WikiDialog_LLM_shot))"
   ]
  },
  {
   "cell_type": "code",
   "execution_count": 25,
   "metadata": {},
   "outputs": [],
   "source": [
    "with open(f'WikiDialog_LLM_{num}.json', 'w') as json_file:\n",
    "    json.dump(WikiDialog_LLM, json_file, indent=2)"
   ]
  },
  {
   "cell_type": "code",
   "execution_count": 26,
   "metadata": {},
   "outputs": [],
   "source": [
    "with open(f'WikiDialog_LLM_instruction_{num}.json', 'w') as json_file:\n",
    "    json.dump(WikiDialog_LLM_instruction, json_file, indent=2)"
   ]
  },
  {
   "cell_type": "code",
   "execution_count": 27,
   "metadata": {},
   "outputs": [],
   "source": [
    "with open(f'WikiDialog_LLM_instruction_passage_title_{num}.json', 'w') as json_file:\n",
    "    json.dump(WikiDialog_LLM_instruction_passage_title, json_file, indent=2)"
   ]
  },
  {
   "cell_type": "code",
   "execution_count": 44,
   "metadata": {},
   "outputs": [],
   "source": [
    "with open(f'WikiDialog_LLM_shot_{num}.json', 'w') as json_file:\n",
    "    json.dump(WikiDialog_LLM_shot, json_file, indent=2)"
   ]
  },
  {
   "cell_type": "code",
   "execution_count": null,
   "metadata": {},
   "outputs": [],
   "source": []
  }
 ],
 "metadata": {
  "kernelspec": {
   "display_name": "chatgpt",
   "language": "python",
   "name": "chatgpt"
  },
  "language_info": {
   "codemirror_mode": {
    "name": "ipython",
    "version": 3
   },
   "file_extension": ".py",
   "mimetype": "text/x-python",
   "name": "python",
   "nbconvert_exporter": "python",
   "pygments_lexer": "ipython3",
   "version": "3.8.8"
  }
 },
 "nbformat": 4,
 "nbformat_minor": 4
}
